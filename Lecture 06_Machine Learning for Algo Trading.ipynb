{
 "cells": [
  {
   "cell_type": "markdown",
   "metadata": {
    "colab_type": "text",
    "id": "vSJqKVam0xEj"
   },
   "source": [
    "## <center><font color=navy>Algorithmic Trading in Python</font></center>\n",
    "### <center>Machine Learning for Algo Trading</center>\n",
    "#### <center>Ali Habibnia</center>"
   ]
  },
  {
   "cell_type": "markdown",
   "metadata": {},
   "source": [
    "<img src=\"images/Life is like ML.JPG\" width=\"600\" height=\"800\"/>"
   ]
  },
  {
   "cell_type": "markdown",
   "metadata": {},
   "source": [
    "## Optimization is at the heart of almost all machine learning algorithms \n",
    "\n",
    "* #### Pillars of Machine Learning: Linear algebra, probability analysis, and neumerical optimization\n",
    "\n",
    "Machine Learning has been an interesting topic for a lot of people since the 60s. However many people are afraid to start learning ML, mostly because it requires some knowledge of linear algebra and calculus. The course as you know is on Machine Learning and in this notebook we are going to let you go of the fear and see how with little effort practical models can be made to solve some real-world applications.\n",
    "\n",
    "* #### Building accurate models is a complex and challenging task. \n",
    "\n",
    "\n",
    "<img src=\"images/model.PNG\" />\n",
    "\n",
    "\n",
    "\n",
    "\n",
    "### Econometrics vs. Machine Learning\n",
    "\n",
    "#### Goal of econometrics\n",
    "\n",
    "* #### \"the goal of econometrics is to find $\\hat\\theta$ where here we mean $\\hat\\theta$ to be the causal impact of X on y\n",
    "\n",
    "* #### The primary statistical concern of econometrics is sampling error. In other words, the goal is to quantify the uncertainty around $\\hat\\theta$ due to randomness in the sampling of the population. \n",
    "\n",
    "* #### The goal is to make counterfactual predictions.\n",
    "\n",
    "        What would happen to Amazon's profits if it changed its website layout?\n",
    "\n",
    "We don't get to observe the world under these alternative policies, so we can't simply find the answers in the data. Knowing the counterfactual requires being able to measure a causal effect. Being able to measure a causal effect requires making assumptions. That's what economics is all about!\n",
    "\n",
    "\n",
    "#### Goal of machine learning\n",
    "\n",
    "* #### In contrast, the goal of machine learning is to come up with the best possible out-of-sample prediction. \n",
    "\n",
    "* #### We refer to this as the primary concern of machine learning being \"$\\hat y$\"\n",
    "\n",
    "* #### The goal is to make sure that the best prediction is had by tuning and validating many different kinds of models. This is what cross-validation is all about, and it is what machine learning practitioners obsess about."
   ]
  },
  {
   "cell_type": "markdown",
   "metadata": {},
   "source": [
    "### Translate between Econometrics (statistics) and Machine Learning\n",
    "\n",
    "|Econometrics|Machine Learning|\n",
    "|-----|-----|\n",
    "|X: Explanatory Variables |X: Input Variables|\n",
    "|y: Dependent Variable|y: Out put Variable|\n",
    "|$\\beta_0$: Intercept/Constant|b: Bias |\n",
    "|$\\beta$: Coeficients|$w$: weights|\n",
    "|$f()$: Linear Model|$f()$: Algorithms|\n",
    "|We estimate $\\beta$|We learn/train/fit $w$|\n",
    "|in-sample & out-of-samle|train (+validation)& test|\n",
    "|Shrinkage|Regularization|"
   ]
  },
  {
   "cell_type": "markdown",
   "metadata": {
    "colab_type": "text",
    "id": "VE4qkrZTvNBM"
   },
   "source": [
    "## Definition of Machine Learning"
   ]
  },
  {
   "cell_type": "markdown",
   "metadata": {
    "colab_type": "text",
    "id": "QKJU8EEIu6im"
   },
   "source": [
    "\n",
    "    Machine Learning is a field of computer science that gives computers the ability to learn without being explicitly programmed. (Wikipedia)\n",
    "\n",
    "Machine learning was born during the early development of artificial intelligence and pattern recognition. Like all the other technologies it grew into the industry with the help of the businesses. There is one widely used formal definition of machine learning algorithms:\n",
    "\n",
    "    “A computer program is said to learn from experience E with respect to some class of tasks T and performance measure P if its performance at tasks in T, as measured by P, improves with experience E.” — Tom. M. Mitchell\n",
    "\n",
    "The definition states that our program has to learn from our data and should improve its performance. As a classical example, if we want to predict the house prices, first we can feed our algorithm with the data like current prices according to the area of a house, # of bedrooms etc. From the data, the algorithm learns and improves its guesses by reducing the errors for predictions. We can measure the performance by running the algorithm using a new input data with known results and take a look at the error rate. Our aim in here will be reducing the error rate."
   ]
  },
  {
   "cell_type": "markdown",
   "metadata": {
    "colab_type": "text",
    "id": "r2DnAnT4vLKV"
   },
   "source": [
    "## Types of Machine Learning Problems and Tasks"
   ]
  },
  {
   "cell_type": "markdown",
   "metadata": {
    "colab_type": "text",
    "id": "1V2LDk0NvZbq"
   },
   "source": [
    "### Supervised Learning"
   ]
  },
  {
   "cell_type": "markdown",
   "metadata": {
    "colab_type": "text",
    "id": "P1NjOVwhvdG0"
   },
   "source": [
    "This type of ML algorithms works with the teacher model. It means that we have a dataset with inputs and output values; that is labeled data. We define a method to get known outputs for the inputs we have. As we improve our method by using all input-output pairs (this is called training), we can predict output values for new input data. This is called supervised learning. We learn the model using the *training data* and we test the model with unseen *test data*. So, we work both with input and output data. An example of supervised learning is predicting house prices. Another is to tell what digit or animal or picture is in a picture.\n",
    "\n",
    "Examples:\n",
    "\n",
    "- Regression (y is Continuous, i.e. linear regression)\n",
    "- Classification ( y is binary or multiclass, i.e. logistic regression)"
   ]
  },
  {
   "cell_type": "markdown",
   "metadata": {
    "colab_type": "text",
    "id": "DcB8pW7RvdL8"
   },
   "source": [
    "### Unsupervised Learning"
   ]
  },
  {
   "cell_type": "markdown",
   "metadata": {
    "colab_type": "text",
    "id": "Ypln4hoGvdP5"
   },
   "source": [
    "Unsupervised learning algorithms are used when we have only input data and no corresponding output values. There are no correct answers, therefore no teacher. These algorithms will be able to find hidden structure or relationship between different inputs. One of the best use cases for unsupervised learning algorithms is clustering problems.\n",
    "\n",
    "Example:\n",
    "\n",
    "- Clustering (i.e. K-means)\n",
    "- Dimensionality reduction (i.e. PCA)"
   ]
  },
  {
   "cell_type": "markdown",
   "metadata": {
    "colab_type": "text",
    "id": "N0xMMSzdvdTZ"
   },
   "source": [
    "### Semi-Supervised Learning"
   ]
  },
  {
   "cell_type": "markdown",
   "metadata": {
    "colab_type": "text",
    "id": "73aYxHFSvdXX"
   },
   "source": [
    "These algorithms are used where there is a huge amount of input data but only small amount of output (labeled) data. These problems sit in the middle of supervised and unsupervised learning. Therefore, supervised and unsupervised learning techniques are used together. One of the best examples for this is identifying objects in photos. Some photos are labeled as apples or lions but most of them are not labeled."
   ]
  },
  {
   "cell_type": "markdown",
   "metadata": {
    "colab_type": "text",
    "id": "SeqpfL0Nvdap"
   },
   "source": [
    "### Reinforcement Learning"
   ]
  },
  {
   "cell_type": "markdown",
   "metadata": {
    "colab_type": "text",
    "id": "4pOOgPnmw2AQ"
   },
   "source": [
    "Reinforcement Learning is influenced by behavioral psychology with a rewarding system. We can think this is like playing with a dog. We have a dog (terminologically called an *agent*) and we have a park (*environment*) where he can do whatever he wants. Whenever dog gets back to you with a stick, you *reward* him with a food. After a while, the dog will start to have better approaches to find other sticks around. So, he will learn from the reward system. This approach in dog’s head is called reinforcement learning. We have an agent, environment, and reward. The difference between supervised learning is in the output data. In reinforcement learning, when the dog is walking around, he doesn’t know he will get a reward or not. He may never get a reward at all. But whenever he finds, he has learned to win. So, output data may come sometime later. In supervised learning, we know the output beforehand and make predictions by looking to them."
   ]
  },
  {
   "cell_type": "markdown",
   "metadata": {
    "colab_type": "text",
    "id": "Ob8CxWlmw6AW"
   },
   "source": [
    "<img src=\"images/types.PNG\"/>"
   ]
  },
  {
   "cell_type": "markdown",
   "metadata": {
    "colab_type": "text",
    "id": "OwlL7P802JGS"
   },
   "source": [
    "Though many phenomena in the world can be adequately modeled using linear regression or classification, most interesting phenomena are generally nonlinear in nature. In order to deal with nonlinear phenomena, there have been a diversity of nonlinear models developed. For example parametric models assume that data follow some parameteric class of nonlinear function (e.g. polynomial, power, or exponential). Another class of models, the ones that are the focus of this notebook, are artificial neural networks (ANNs). ANNs are nonlinear models motivated by the physiological architecture of the nervous system. They involve a cascade of simple nonlinear computations that when aggregated can implement robust and complex nonlinear functions. \n",
    "\n",
    "There is a fascinating history that goes back to the 1940s full of ups and downs, twists and turns, friends and rivals, and successes and failures. An idea that was once sort of an ugly duckling has blossomed to become the belle of the ball.\n",
    "\n",
    "<img src='images/nn_timeline.jpg' style='width: 110%'/>\n"
   ]
  },
  {
   "cell_type": "markdown",
   "metadata": {
    "colab_type": "text",
    "id": "hGucE-yd35gZ"
   },
   "source": [
    "Early work in machine learning was largely informed by the current working theories of the brain. The first guys on the scene were Walter Pitts and Warren McCulloch. They had developed a technique known as “thresholded logic unit” and was designed to mimic the way a neuron was thought to work (which will be a recurring theme). \n",
    "\n",
    "However, it isn’t until [Frank Rosenblatt](https://en.wikipedia.org/wiki/Frank_Rosenblatt)’s “[perceptron](https://en.wikipedia.org/wiki/Perceptron)” that we see the first real precursor to modern neural networks. For its day, this thing was pretty impressive. It came with a learning procedure that would provably converge to the correct solution and could recognize letters and numbers. Rosenblatt was so confident that the perceptron would lead to true AI, that in 1959 he remarked:\n",
    "\n",
    "\n",
    "Rosenblatt’s perceptron began to garner quite a bit of attention, and one person in particular began to take notice. [Marvin Minsky](https://en.wikipedia.org/wiki/Marvin_Minsky), who is often thought of as one of the father’s of AI, began to sense that something was off with Rosenblatt’s perceptron. Minsky is quoted saying:\n",
    "\n",
    "\n",
    "\n",
    "    However, I started to worry about what such a machine could not do. For example, it could tell ‘E’s from ‘F’s, and ‘5’s from ‘6’s—things like that. But when there were disturbing stimuli near these figures that weren’t correlated with them the recognition was destroyed.\n",
    "\n",
    "Along with Seymor Papert, Minksy wrote a book entitled Perceptrons that effectively killed the perceptron, ending embryonic idea of a neural net. They showed that the perceptron was incapable of learning the simple **exclusive-or (XOR) function**. Worse, they proved that it was theoretically impossible for it to learn such a function, no matter how long you let it train. Now this isn’t surprising to us, as the model implied by the perceptron is a linear one and the XOR function is nonlinear, but at the time this was enough to kill all research on neural nets and usher in the first AI winter."
   ]
  },
  {
   "cell_type": "markdown",
   "metadata": {},
   "source": [
    "### Let's start again from LR\n",
    "\n",
    "In the machine learning problems, we would like to earn a function $ f $, which predicts the output $ y $ from the input $ X $.\n",
    "$$\\begin{equation} y = f(X) \\end{equation}$$\n",
    "The $ f $ is referred to as the regression or classification function, and this learning problem is also known as function approximation in the field of mathematics.\n",
    "\n",
    "The regression problem is basically a good way to predict a continuous output $ Y $. And it is OK to use a discrete $ Y $ for the regression problem.\n",
    "A discrete $ Y $ leads the problem to the classification. For example, \"whether $ Y $ is 0 or 1\"\n",
    "\n",
    "We compute $ \\hat{f}$ from the training data $(\\mathbf{X}, \\mathbf{y})$ with whatever method, and then bring the test data and test it (how good the $\\hat{f}$ is?). \n",
    "Since, of course, it is extremely difficult to do such task without a clue, we simplify the situation by enchanting $ f $ with a special property."
   ]
  },
  {
   "cell_type": "markdown",
   "metadata": {},
   "source": [
    "#### In Linear Regression\n",
    "\n",
    "The most absurd assumption is that $ f $ is linear.\n",
    "With $ X \\in \\mathbb{R}^p$ and $y \\in \\mathbb{R} $, we can write the linear regression function as\n",
    "$$\\begin{align} y &= f(X) \\\\ &= \\beta_0 + \\beta_1 X_1 + \\cdots + \\beta_p X_p \\\\ &= \\beta^T X, \\end{align}$$\n",
    "where, for brevity, $ X $ and $ \\beta $ are $ (p+1) $-vector containing the intercept, respectively.\n",
    "\n",
    "Now estimating $ f $ comes equivalent with finding $ \\beta $. Exaggeratingly speaking, linear regression is that you see the point cloud and draw your proper straight line. The linear regression fit $ \\hat{f} $ can be computed by the least squares.\n",
    "\n",
    "Here goes the simplest example.\n",
    "$$\\begin{equation} Y = \\beta_0 + \\beta_1 X \\end{equation}$$"
   ]
  },
  {
   "cell_type": "code",
   "execution_count": 8,
   "metadata": {},
   "outputs": [],
   "source": [
    "import numpy as np\n",
    "import csv\n",
    "import matplotlib\n",
    "import matplotlib.pyplot as plt\n",
    "from mpl_toolkits.mplot3d import Axes3D"
   ]
  },
  {
   "cell_type": "code",
   "execution_count": 9,
   "metadata": {},
   "outputs": [
    {
     "name": "stdout",
     "output_type": "stream",
     "text": [
      "Y = 0.134176 + 0.009082X\n"
     ]
    },
    {
     "data": {
      "image/png": "[encoded data removed]",
      "text/plain": [
       "<Figure size 432x288 with 1 Axes>"
      ]
     },
     "metadata": {
      "needs_background": "light"
     },
     "output_type": "display_data"
    }
   ],
   "source": [
    "\"\"\"The simplest example for 1D linear regression\"\"\"\n",
    "# Generate data (sine-like wave)\n",
    "sample_size = 500\n",
    "sample_x = np.arange(0, 100, 100/sample_size)\n",
    "sample_y_true = np.sin(sample_x/10)/2 + sample_x*.01\n",
    "sample_y = sample_y_true + np.random.randn(sample_size)/4\n",
    "\n",
    "# Plot the data\n",
    "fig0 = plt.figure(0)\n",
    "ax0 = fig0.add_subplot(1, 1, 1)\n",
    "ax0.plot(sample_x, sample_y, 'o')\n",
    "\n",
    "# Implementation for the 1D linear regression\n",
    "mat_1x = np.vstack((np.ones(sample_size), sample_x)).T\n",
    "hat_beta = np.linalg.solve((mat_1x.T @ mat_1x),\n",
    "                              (mat_1x.T @ sample_y))\n",
    "\n",
    "# Compute the fit\n",
    "hat_y = mat_1x @ hat_beta\n",
    "\n",
    "# Plot the fit\n",
    "ax0.plot(sample_x, hat_y, linewidth=5)\n",
    "ax0.set_title('Linear Regression in 1D')\n",
    "print('Y = {:5f} + {:5f}X'.format(*hat_beta))"
   ]
  },
  {
   "cell_type": "markdown",
   "metadata": {},
   "source": [
    "From the above picture, the computed straight line looks either good or bad. \n",
    "\n",
    "1. Does the line explains the original data? Bad. We actually did wrong with picking the model, since we saw the curvy data but fit with the straight line. (High bias) \n",
    "2. How well does the line predict a new data? Good. (Low variance)\n",
    "\n",
    "The straight line is simple, and simple is good, because\n",
    "\n",
    "- it makes the computation easier,\n",
    "- it makes the interpretation easier, and\n",
    "- it works well with the scarce data.\n"
   ]
  },
  {
   "cell_type": "markdown",
   "metadata": {},
   "source": [
    "#### Polynomial Regression\n",
    "\n",
    "A reason why many textbooks primarily deal with the linear regression is that it allows us to fit in more complex way with the same method. The idea is simple. Assume we want to fit a quadratic curve instead of a straight line. Then we change the original linear model\n",
    "$$\\begin{equation} Y = \\beta_0 + \\beta_1 X \\end{equation}$$\n",
    "to the quadratic model by adding the quadratic term as\n",
    "$$\\begin{equation} Y = \\beta_0 + \\beta_1 X + \\beta_2 X^2. \\end{equation}$$\n",
    "To get the estimate of $ \\beta_0, \\beta_1, \\beta_2 $, the corresponding training data change in the same way\n",
    "$$\\begin{equation} \\mathbf{X} = \\begin{bmatrix} 1 & x_1 \\\\ 1 & x_2 \\\\ \\vdots & \\vdots \\\\ 1 & x_N \\end{bmatrix} \\quad\\Longrightarrow\\quad \\mathbf{X} = \\begin{bmatrix} 1 & x_1 & x_1^2 \\\\ 1 & x_2 & x_2^2 \\\\ \\vdots & \\vdots & \\vdots \\\\ 1 & x_N & x_N^2 \\end{bmatrix}, \\end{equation}$$\n",
    "and the final computation is done with the plain linear regression."
   ]
  },
  {
   "cell_type": "code",
   "execution_count": 10,
   "metadata": {},
   "outputs": [
    {
     "name": "stdout",
     "output_type": "stream",
     "text": [
      "Y = 0.457213 + -0.010378X + 0.000195X^2\n",
      "Y = 0.718247 + -0.041923X + 0.000986X^2 + -0.000005X^3\n"
     ]
    },
    {
     "data": {
      "image/png": "[encoded data removed]",
      "text/plain": [
       "<Figure size 720x360 with 2 Axes>"
      ]
     },
     "metadata": {
      "needs_background": "light"
     },
     "output_type": "display_data"
    }
   ],
   "source": [
    "import numpy as np\n",
    "import matplotlib.pyplot as plt\n",
    "\n",
    "\"\"\"1D polynomial regression\"\"\"\n",
    "# Plot the data\n",
    "fig1 = plt.figure(1, figsize=(10, 5))\n",
    "ax11 = fig1.add_subplot(1, 2, 1)\n",
    "ax11.plot(sample_x, sample_y, 'o')\n",
    "ax12 = fig1.add_subplot(1, 2, 2)\n",
    "ax12.plot(sample_x, sample_y, 'o')\n",
    "\n",
    "# Implementation for the 1D polynomial regression (quadratic/cubic)\n",
    "mat_1x2 = np.vstack((np.ones(sample_size),\n",
    "                     sample_x, sample_x**2)).T\n",
    "hat_beta2 = np.linalg.solve((mat_1x2.T @ mat_1x2),\n",
    "                            (mat_1x2.T @ sample_y))\n",
    "mat_1x3 = np.hstack((mat_1x2,\n",
    "                     (sample_x**3).reshape(-1, 1)))\n",
    "hat_beta3 = np.linalg.solve((mat_1x3.T @ mat_1x3),\n",
    "                            (mat_1x3.T @ sample_y))\n",
    "\n",
    "# Compute the fits\n",
    "hat_y2 = mat_1x2 @ hat_beta2\n",
    "hat_y3 = mat_1x3 @ hat_beta3\n",
    "\n",
    "# Plot the fit\n",
    "ax11.plot(sample_x, hat_y2, linewidth=5)\n",
    "ax11.set_title('Polynomial Regression (Quadratic)')\n",
    "ax12.plot(sample_x, hat_y3, linewidth=5)\n",
    "ax12.set_title('Polynomial Regression (Cubic)')\n",
    "print('Y = {:5f} + {:5f}X + {:5f}X^2'.format(*hat_beta2))\n",
    "print('Y = {:5f} + {:5f}X + {:5f}X^2 + {:5f}X^3'.format(*hat_beta3))"
   ]
  },
  {
   "cell_type": "markdown",
   "metadata": {},
   "source": [
    "### Neural Networks  (Moving Beyond Linearity)\n",
    "\n",
    "- The central idea is to extract linear combinations of the inputs as derived features, and then model the target as a nonlinear function of these features. We note that the name \"neural networks\" derives from the fact that they were first developed as models for the human brain. Each unit represents a neuron, and the connections represent synapses.\n",
    "\n",
    "<img src=\"images/intro_nn.png\"/>\n",
    "\n",
    "\n",
    "\n",
    "#### Single layer perceptron\n",
    "\n",
    "The term _neural networks_ has evolved to encompass a large class of models and learning methods. Here we describe the most widely used \"vanilla\" neural net, sometimes called the **single hidden layer back-propagation network, or single layer perceptron**. See [Neural Network Architectures](https://towardsdatascience.com/the-mostly-complete-chart-of-neural-networks-explained-3fb6f2367464)\n",
    "\n",
    "There has been a great deal of _hype_ surrounding neural networks, making them seem magical and mysterious. As we make clear in this section, they are just nonlinear statistical models.\n",
    "\n",
    "A neural network is a two-stage regression or classification model, typically represented by a _network diagram_ as in FIGURE 11.2. (from The Elements of Statistical Learning) This network applies both to regression or classification.\n",
    "\n",
    "<img src='images/11.2.png' style='width: 60%'/>\n",
    "\n",
    "\n",
    "\n",
    "* For regression, typically $K=1$ and there is only one output unit $Y_1$ at the top.  \n",
    "  However, these networks can handle multiple quantitative responses in a seamless fashion, so we will deal with the general case.\n",
    "* For $K$-class classification, there are $K$ units at the top, with the $k$th unit modeling the probability of class $k$. There are $K$ target measurements $Y_k$ each being coded as a 0-1 variable for the $k$th class."
   ]
  },
  {
   "cell_type": "markdown",
   "metadata": {},
   "source": [
    "### $Z$\n",
    "\n",
    "Derived features $Z_m$ are created from linear combinations of the inputs, and the target $Y_k$ is modeled as a function of linear combinations of the $Z_m$,\n",
    "\n",
    "\\begin{align}\n",
    "Z_m &= \\sigma(\\alpha_{0m} + \\alpha_m^T X), & m=1,\\cdots,M, \\\\\n",
    "T_k &= \\beta_{0k} + \\beta_k^T Z, & k=1,\\cdots,K, \\\\\n",
    "f_k(X) &= g_k(T), & k=1,\\cdots,K.\n",
    "\\end{align}"
   ]
  },
  {
   "cell_type": "markdown",
   "metadata": {},
   "source": [
    "### Sigmoid\n",
    "\n",
    "The activation function $\\sigma(v)$ is usually chosen to be the _sigmoid_\n",
    "\n",
    "\\begin{equation}\n",
    "\\sigma(v) = \\frac{1}{1+e^{-v}}.\n",
    "\\end{equation}\n",
    "\n",
    "See FIGURE 11.3 for a plot of the sigmoid function.\n",
    "\n",
    "<img src='images/11.3.png' style='width: 70%'/>\n"
   ]
  },
  {
   "cell_type": "code",
   "execution_count": 11,
   "metadata": {},
   "outputs": [],
   "source": [
    "\"\"\"FIGURE 11.3. Plot of the sigmoid function.\n",
    "The scale parameter s controls the activation rate,\n",
    "and we can see that large s amounts to a hard activation at v=0.\n",
    "Note that sigmoid(s(v-v0)) shifts the activation threshold from 0 to v0.\"\"\"\n",
    "import numpy as np\n",
    "import matplotlib.pyplot as plt"
   ]
  },
  {
   "cell_type": "code",
   "execution_count": 14,
   "metadata": {},
   "outputs": [],
   "source": [
    "def sigmoid(x: np.ndarray, s: float) -> np.ndarray:\n",
    "    return 1 / (1 + np.exp(-s * x))"
   ]
  },
  {
   "cell_type": "code",
   "execution_count": 15,
   "metadata": {},
   "outputs": [
    {
     "data": {
      "image/png": "[encoded data removed]",
      "text/plain": [
       "<Figure size 720x360 with 1 Axes>"
      ]
     },
     "metadata": {
      "needs_background": "light"
     },
     "output_type": "display_data"
    }
   ],
   "source": [
    "import numpy as np\n",
    "import matplotlib.pyplot as plt\n",
    "\n",
    "def sigmoid(x: np.ndarray, s: float) -> np.ndarray:\n",
    "    return 1 / (1 + np.exp(-s * x))\n",
    "\n",
    "x = np.linspace(-10, 10, 200)\n",
    "y_1 = sigmoid(x, 1)\n",
    "y_half = sigmoid(x, 0.5)\n",
    "y_10 = sigmoid(x, 10)\n",
    "\n",
    "fig = plt.figure(0, figsize=(10, 5))\n",
    "ax = fig.add_subplot(1, 1, 1)\n",
    "ax.plot(x, y_1, color='C3')\n",
    "ax.plot(x, y_half, '--', color='C0')\n",
    "ax.plot(x, y_10, '--', color='C4')\n",
    "ax.set_xlabel('v')\n",
    "ax.set_ylabel('sigmoid')\n",
    "plt.show()"
   ]
  },
  {
   "cell_type": "markdown",
   "metadata": {},
   "source": [
    "### Fitting Neural Networks\n",
    "\n",
    "The neural network model has unknown parameters, often called _weights_, and we seek values for them that make the model fit the training data well.\n",
    "\n",
    "We denote the complete set of weights by $\\theta$, which consists of\n",
    "\n",
    "\\begin{align}\n",
    "\\{ \\alpha_{0m}, \\alpha_m : m=1,2,\\cdots,M \\} & & M(p+1) \\text{ weights}, \\\\\n",
    "\\{ \\beta_{0k}, \\beta_k : k=1,2,\\cdots,K \\} & & K(M+1) \\text{ weights}.\n",
    "\\end{align}"
   ]
  },
  {
   "cell_type": "markdown",
   "metadata": {},
   "source": [
    "For regression, we use sum-of-squared errors as our measure of fit (error function)\n",
    "\n",
    "\\begin{equation}\n",
    "R(\\theta) = \\sum_{k=1}^K \\sum_{i=1}^N (y_{ik} - f_k(x_i))^2.\n",
    "\\end{equation}\n",
    "\n",
    "For classification we use either squared error or cross-entropy (deviance)\n",
    "\n",
    "\\begin{equation}\n",
    "R(\\theta) = -\\sum_{i=1}^N \\sum_{k=1}^K y_{ik}\\log f_k(x_i),\n",
    "\\end{equation}\n",
    "\n",
    "and the corresponding classifier is\n",
    "\n",
    "\\begin{equation}\n",
    "G(x) = \\arg\\max_k f_k(x).\n",
    "\\end{equation}\n",
    "\n",
    "With the softmax activation function and the cross-entropy error function, the neural network model is exactly a linear logistic regression in the hidden units, and all the parameters are estimated by maximum likelihood."
   ]
  },
  {
   "cell_type": "markdown",
   "metadata": {},
   "source": [
    "### Back-propagation = gradient descent\n",
    "\n",
    "The generic approach to minimizing $R(\\theta)$ is by gradient descent, called _back-propagation_ in this setting. Because of the compositional form of the model, the gradient can be easily derived using the chain rule for differentiation.\n",
    "\n",
    "This can be computed by a forward and backward sweep over the network, keeping track only of quantities local to each unit."
   ]
  },
  {
   "cell_type": "markdown",
   "metadata": {},
   "source": [
    "### Back-propagation for squared error loss\n",
    "\n",
    "Let\n",
    "* $z_{mi} = \\sigma(\\alpha_{0m} + \\alpha_m^T x_i)$, and\n",
    "* $z_i = (z_{1i}, z_{2i}, \\cdots, z_{Mi})$.\n",
    "\n",
    "Then we have\n",
    "\n",
    "\\begin{align}\n",
    "R(\\theta) &\\equiv \\sum_{i=1}^N R_i \\\\\n",
    "&= \\sum_{i=1}^N \\sum_{k=1}^K \\left( y_{ik} - f_k(x_i) \\right)^2,\n",
    "\\end{align}\n",
    "\n",
    "with derivatives\n",
    "\n",
    "\\begin{align}\n",
    "\\frac{\\partial R_i}{\\partial\\beta_{km}} &= -2\\left( y_{ik} - f_k(x_i) \\right) g_k'(\\beta_k^T z_i) z_{mi}, \\\\\n",
    "\\frac{\\partial R_i}{\\partial\\alpha_{ml}} &= -2\\sum_{k=1}^K \\left( y_{ik} - f_k(x_i) \\right) g_k'(\\beta_k^T z_i) \\beta_{km} \\sigma'(\\alpha_m^T x_i) x_{il}.\n",
    "\\end{align}\n",
    "\n",
    "Given these derivatives, a gradient descent update at the $(r+1)$st iteration has the form\n",
    "\n",
    "\\begin{align}\n",
    "\\beta_{km}^{(r+1)} &= \\beta_{km}^{(r)} - \\gamma_r \\sum_{i=1}^N \\frac{\\partial R_i}{\\partial\\beta_{km}^{(r)}}, \\\\\n",
    "\\alpha_{ml}^{(r+1)} &= \\alpha_{ml}^{(r)} - \\gamma_r \\sum_{i=1}^N \\frac{\\partial R_i}{\\partial \\alpha_{ml}^{(r)}},\n",
    "\\end{align}\n",
    "\n",
    "where $\\gamma_r$ is the learning rate, discussed below."
   ]
  },
  {
   "cell_type": "markdown",
   "metadata": {},
   "source": [
    "### Back-propagation equations\n",
    "\n",
    "Now write the gradients as\n",
    "\n",
    "\\begin{align}\n",
    "\\frac{\\partial R_i}{\\partial\\beta_{km}} &= \\delta_{ki} z_{mi}, \\\\\n",
    "\\frac{\\partial R_i}{\\partial\\alpha_{ml}} &= s_{mi} x_{il}.\n",
    "\\end{align}\n",
    "\n",
    "The quantities $\\delta_{ki}$ and $s_{mi}$ are \"errors\" from the current model at the output and hidden layer units, respectively. From their definitions, these errors satisfy\n",
    "\n",
    "\\begin{equation}\n",
    "s_{mi} = \\sigma'(\\alpha_m^T x_i) \\sum_{k=1}^K \\beta_{km} \\delta_{ki},\n",
    "\\end{equation}\n",
    "\n",
    "known as the _back-propagation equations_. Using this, the gradient descent updates can be implemented with a two-pass algorithm.\n",
    "1. In the _forward pass_, the current weights are fixed and the predicted values $\\hat{f}_k(x_i)$ are computed from the formula  \n",
    "  \n",
    "  \\begin{align}\n",
    "  Z_m &= \\sigma(\\alpha_{0m} + \\alpha_m^T X), & m=1,\\cdots,M, \\\\\n",
    "  T_k &= \\beta_{0k} + \\beta_k^T Z, & k=1,\\cdots,K, \\\\\n",
    "  f_k(X) &= g_k(T), & k=1,\\cdots,K.\n",
    "  \\end{align}\n",
    "  \n",
    "2. In the _backward pass_, the errors $\\delta_{ki}$ are computed, and then back-propagated via  \n",
    "\n",
    "  \\begin{equation}\n",
    "  s_{mi} = \\sigma'(\\alpha_m^T x_i) \\sum_{k=1}^K \\beta_{km} \\delta_{ki},\n",
    "  \\end{equation}\n",
    "  \n",
    "  to give the errors $s_{mi}$.\n",
    "\n",
    "Both set of errors are then used to compute the gradients for the updates."
   ]
  },
  {
   "cell_type": "markdown",
   "metadata": {},
   "source": [
    "### Advantages of back-propagation\n",
    "\n",
    "The advantages of back-propagation are its simple, local nature. In the back-propagation algorithm, each hidden unit passes and receives information only to and from units that share a connection. Hence it ca be implemented efficiently on a parallel architecture computer."
   ]
  },
  {
   "cell_type": "markdown",
   "metadata": {},
   "source": [
    "## Neural Network from Scratch in Python\n",
    "\n",
    "We will implement a simple 3-layer neural network from scratch. Implementing a network from scratch at least once is an extremely valuable exercise. It helps you gain an understanding of how neural networks work, and that is essential to designing effective models.\n",
    "\n",
    "\n",
    "<img src=\"images/nn.png\" style='width: 40%'/>\n",
    "\n",
    "<img src=\"images/bpro.png\" style='width: 40%'/>\n",
    "\n"
   ]
  },
  {
   "cell_type": "markdown",
   "metadata": {},
   "source": [
    "\n",
    "— — — — — — — — — — — — — \n",
    "\n",
    "A typical training script has the following steps:\n",
    "\n",
    "- Define network\n",
    "- Initialize parameters\n",
    "- Loop over inputs\n",
    "- Forward input through network to get output\n",
    "- Compute loss with output and label\n",
    "- Backprop gradient\n",
    "- Update parameters with gradient descent.\n",
    "\n",
    "\n",
    "<img src='images/nn-3-layer-network.png' style='width: 55%'/>\n",
    "\n"
   ]
  },
  {
   "cell_type": "code",
   "execution_count": 16,
   "metadata": {},
   "outputs": [
    {
     "name": "stdout",
     "output_type": "stream",
     "text": [
      "[[0.97343103]\n",
      " [0.95288046]\n",
      " [0.05953422]]\n"
     ]
    }
   ],
   "source": [
    "import numpy as np\n",
    "\n",
    "#Input array\n",
    "X=np.array([[1,0,1,0],[1,0,1,1],[0,1,0,1]])\n",
    "\n",
    "#Output\n",
    "y=np.array([[1],[1],[0]])\n",
    "\n",
    "#Sigmoid Function\n",
    "def sigmoid (x):\n",
    "    return 1/(1 + np.exp(-x))\n",
    "\n",
    "#Derivative of Sigmoid Function\n",
    "def derivatives_sigmoid(x):\n",
    "    return x * (1 - x)\n",
    "\n",
    "#Variable initialization\n",
    "epoch=500 #Setting training iterations\n",
    "lr=0.5 #Setting learning rate\n",
    "inputlayer_neurons = X.shape[1] #number of features in data set\n",
    "hiddenlayer_neurons = 5 #number of hidden layers neurons\n",
    "output_neurons = 1 #number of neurons at output layer\n",
    "\n",
    "#weight and bias initialization\n",
    "wh=np.random.uniform(size=(inputlayer_neurons,hiddenlayer_neurons))\n",
    "bh=np.random.uniform(size=(1,hiddenlayer_neurons))\n",
    "wout=np.random.uniform(size=(hiddenlayer_neurons,output_neurons))\n",
    "bout=np.random.uniform(size=(1,output_neurons))\n",
    "\n",
    "for i in range(epoch):\n",
    "    #Forward Propogation\n",
    "    hidden_layer_input1=np.dot(X,wh)\n",
    "    hidden_layer_input=hidden_layer_input1 + bh\n",
    "    hiddenlayer_activations = sigmoid(hidden_layer_input)\n",
    "    output_layer_input1=np.dot(hiddenlayer_activations,wout)\n",
    "    output_layer_input= output_layer_input1+ bout\n",
    "    output = sigmoid(output_layer_input)\n",
    "\n",
    "    #Backpropagation\n",
    "    E = y-output\n",
    "    slope_output_layer = derivatives_sigmoid(output)\n",
    "    slope_hidden_layer = derivatives_sigmoid(hiddenlayer_activations)\n",
    "    d_output = E * slope_output_layer\n",
    "    Error_at_hidden_layer = d_output.dot(wout.T)\n",
    "    d_hiddenlayer = Error_at_hidden_layer * slope_hidden_layer\n",
    "    wout += hiddenlayer_activations.T.dot(d_output) *lr\n",
    "    bout += np.sum(d_output, axis=0,keepdims=True) *lr\n",
    "    wh += X.T.dot(d_hiddenlayer) *lr\n",
    "    bh += np.sum(d_hiddenlayer, axis=0,keepdims=True) *lr\n",
    "\n",
    "print (output)\n",
    "\n"
   ]
  },
  {
   "cell_type": "code",
   "execution_count": 17,
   "metadata": {},
   "outputs": [
    {
     "data": {
      "text/plain": [
       "array([[ 1.41151926,  1.69091766,  0.69541926,  0.08809065, -0.17885685],\n",
       "       [-1.14524741, -1.5788251 ,  1.14403567,  0.93863649,  0.47598779],\n",
       "       [ 1.2944632 ,  2.13861179,  0.31915562,  0.00545548, -0.26871841],\n",
       "       [-0.50986379, -0.80021544,  0.66635029,  0.51839964,  0.66993435]])"
      ]
     },
     "execution_count": 17,
     "metadata": {},
     "output_type": "execute_result"
    }
   ],
   "source": [
    "wh"
   ]
  },
  {
   "cell_type": "markdown",
   "metadata": {},
   "source": [
    "## Neural Networks with Scikit-Learn\n",
    "\n",
    "https://scikit-learn.org/stable/modules/neural_networks_supervised.html"
   ]
  },
  {
   "cell_type": "code",
   "execution_count": 60,
   "metadata": {},
   "outputs": [],
   "source": [
    "%matplotlib inline\n",
    "from sklearn.neural_network import MLPRegressor\n",
    "import numpy as np\n",
    "import matplotlib.pyplot as plt"
   ]
  },
  {
   "cell_type": "code",
   "execution_count": 63,
   "metadata": {},
   "outputs": [
    {
     "data": {
      "image/png": "[encoded data removed]",
      "text/plain": [
       "<Figure size 432x288 with 1 Axes>"
      ]
     },
     "metadata": {
      "needs_background": "light"
     },
     "output_type": "display_data"
    }
   ],
   "source": [
    "x = np.arange(-1.5, 1.5, 0.01).reshape(-1, 1)\n",
    "y = np.sin(2 * np.pi * x).ravel()\n",
    "\n",
    "fig = plt.figure()\n",
    "ax1 = fig.add_subplot(111)\n",
    "ax1.scatter(x, y, s=1, c='b', marker=\"s\", label='real')\n",
    "plt.show()"
   ]
  },
  {
   "cell_type": "code",
   "execution_count": 73,
   "metadata": {},
   "outputs": [
    {
     "data": {
      "image/png": "[encoded data removed]",
      "text/plain": [
       "<Figure size 432x288 with 1 Axes>"
      ]
     },
     "metadata": {
      "needs_background": "light"
     },
     "output_type": "display_data"
    }
   ],
   "source": [
    "nn = MLPRegressor(\n",
    "    hidden_layer_sizes=(4,),  activation='tanh', solver='lbfgs', alpha=0.001, batch_size='auto',\n",
    "    learning_rate='constant', learning_rate_init=0.1, power_t=0.5, max_iter=5000, shuffle=True,\n",
    "    random_state=9, tol=0.0001, verbose=False, warm_start=False, momentum=0.9, nesterovs_momentum=True,\n",
    "    early_stopping=False, validation_fraction=0.1, beta_1=0.9, beta_2=0.999, epsilon=1e-08)\n",
    "\n",
    "n = nn.fit(x, y)\n",
    "test_x = np.arange(-1.5, 1.5, 0.05).reshape(-1, 1)\n",
    "test_y = nn.predict(test_x)\n",
    "fig = plt.figure()\n",
    "ax1 = fig.add_subplot(111)\n",
    "ax1.scatter(x, y, s=1, c='b', marker=\"s\", label='real')\n",
    "ax1.scatter(test_x,test_y, s=10, c='r', marker=\"o\", label='NN Prediction')\n",
    "plt.show()"
   ]
  },
  {
   "cell_type": "markdown",
   "metadata": {},
   "source": [
    "## Feature extraction & Dimensionality Reduction with Deep Neural Nets"
   ]
  },
  {
   "cell_type": "markdown",
   "metadata": {},
   "source": [
    "### Autoencoders"
   ]
  },
  {
   "cell_type": "markdown",
   "metadata": {},
   "source": [
    "Autoencoders are one of the unsupervised deep learning models. The aim of an autoencoder is dimensionality reduction and feature discovery. An autoencoder is trained to predict its own input, but to prevent the model from learning the identity mapping, some constraints are applied to the hidden units. \n",
    "\n",
    "“Autoencoding” is a data compression algorithm where the compression and decompression functions are 1) data-specific, 2) lossy, and 3) learned automatically from examples rather than engineered by a human. Additionally, in almost all contexts where the term “autoencoder” is used, the compression and decompression functions are implemented with neural networks.\n",
    "\n",
    "For building an autoencoder, three things are needed: an encoding function, a decoding function, and a distance function between the amount of information loss between the compressed representation of your data and the decompressed representation (i.e. a “loss” function).\n",
    "\n",
    "The simplest form of an autoencoder is a feedforward neural network where the input $x$ is fed to the hidden layer and the output of hidden layer is then fed to reconstruct the original inputs. A simple autoencoder is shown below:\n",
    "\n",
    "<center><img src=\"images/autoencoder.png\" width=\"650\" alt=\"A simple Autoencoder.\"></center>\n",
    "<center><img src=\"images/autoencoder2.png\" width=\"850\" alt=\"A simple Autoencoder.\"></center>"
   ]
  },
  {
   "cell_type": "markdown",
   "metadata": {},
   "source": [
    "Autoencoders map the data they are fed to a lower dimensional space by combining the data’s most important features. It encodes the original data into a more compact representation. It also decides how the data is combined, hence the auto in Autoencoder. We refer to these encoded features as latent variables.\n",
    "\n",
    "There are a few reasons doing this may be useful:\n",
    "\n",
    "1. Dimensionality reduction can decrease training time.\n",
    "1. Using latent feature representations may enhance model performance.\n",
    "\n",
    "\n",
    "Like the Autoencoder model, Principal Components Analysis (PCA) is also widely used as a dimensionality reduction technique. However, PCA maps the input in a different way than an Autoencoder.\n",
    "\n",
    "Both PCA and Autoencoder can be thought of as a lossy data compression algorithm. The quality of the data is not perfectly retained -- some of the original data get lost. Notice that it is different with feature selection. Feature selection algorithms discard some features of the data and retain salient features. The features they retain are typically chosen for statistical reasons, such as the correlation between the attribute and the target label. Autoencoder, as a feature extraction algorithm, projects data into a new space.\n",
    "\n",
    "Let's recap how PCA worked first."
   ]
  },
  {
   "cell_type": "markdown",
   "metadata": {},
   "source": [
    "### PCA"
   ]
  },
  {
   "cell_type": "markdown",
   "metadata": {},
   "source": [
    "PCA works by projecting input data onto the eigenvectors of the data’s covariance matrix. The covariance matrix quantifies the variance of the data and how much each variable varies with respect to one another. Eigenvectors are simply vectors that retain their span through a linear transformation, that is, they point in the same direction before and after the transformation. The covariance matrix transforms the original basis vectors to be oriented in the direction of the covariance between each variable. In simpler terms, the eigenvector allows us to re-frame the orientation of the original data to view it at a different angle without actually transforming the data. We are essentially extracting the component of each variable that leads to the most variance when we project the data onto these vectors. We can then select the dominant axes using the eigenvalues of the covariance matrix because they reflect the magnitude of the variance in the direction of their corresponding eigenvector.\n",
    "\n",
    "<center><img src=\"https://drive.google.com/uc?export=view&id=1ifTzuIC47I1DTP88cwUvtRQtG-_5OQIy\" width=\"450\" alt=\"A simple Autoencoder.\"></center>\n",
    "\n",
    "These projections result in a new space, where each basis vector encapsulates the most variance (i.e. the projections onto the eigenvector with the largest eigenvalue have the most variance, the ones on the second eigenvector have the second most variance, etc.). These new basis vectors are referred to as the principal components. We want principal components to be oriented in the direction of maximum variance because greater variance in attribute values can lead to better forecasting abilities. For example, say you’re trying to predict the price of a car given two attributes: color and brand. Suppose all the cars have the same color, but there are many brands among them. Guessing a car’s price based on its color — a feature with zero variance — would be pretty much impossible in this example. However, if we considered a feature with more variance, the brand, we will be able to come up with better price estimates because Audis and Ferraris tend to be priced higher than Hondas and Toyotas. The principal components resulting from PCA are linear combinations of the input variables . The linear nature of these principal components also allow us to interpret the transformed data.\n"
   ]
  },
  {
   "cell_type": "markdown",
   "metadata": {},
   "source": [
    "**PCA Pros**:\n",
    "\n",
    "* Reduces dimensionality\n",
    "* Interpretable\n",
    "* Fast run time\n",
    "\n",
    "**PCA Cons**:\n",
    "* Incapable of learning non-linear feature representations\n",
    "\n",
    "**Autoencoder Pros**:\n",
    "\n",
    "* Able to learn non-linear feature representations\n",
    "* Reduce dimensionality\n",
    "\n",
    "**Autoencoder Cons**:\n",
    "\n",
    "* Computationally expensive to train\n",
    "* Extremely uninterpretable\n",
    "* The underlying math is more complicated\n",
    "* Prone to overfitting, though this can be mitigated via regularization"
   ]
  },
  {
   "cell_type": "markdown",
   "metadata": {},
   "source": [
    "## Showcase 1 - Neural Nets for predicting the movement of the stock"
   ]
  },
  {
   "cell_type": "code",
   "execution_count": 43,
   "metadata": {},
   "outputs": [],
   "source": [
    "import numpy as np\n",
    "import pandas as pd\n",
    "import yfinance as yf\n",
    "import matplotlib.pyplot as plt\n",
    "#import talib\n",
    "import random\n",
    "random.seed(42)\n",
    "from sklearn.preprocessing import StandardScaler"
   ]
  },
  {
   "cell_type": "code",
   "execution_count": 29,
   "metadata": {},
   "outputs": [
    {
     "name": "stdout",
     "output_type": "stream",
     "text": [
      "[*********************100%***********************]  1 of 1 completed\n"
     ]
    },
    {
     "data": {
      "text/html": [
       "<div>\n",
       "<style scoped>\n",
       "    .dataframe tbody tr th:only-of-type {\n",
       "        vertical-align: middle;\n",
       "    }\n",
       "\n",
       "    .dataframe tbody tr th {\n",
       "        vertical-align: top;\n",
       "    }\n",
       "\n",
       "    .dataframe thead th {\n",
       "        text-align: right;\n",
       "    }\n",
       "</style>\n",
       "<table border=\"1\" class=\"dataframe\">\n",
       "  <thead>\n",
       "    <tr style=\"text-align: right;\">\n",
       "      <th></th>\n",
       "      <th>Open</th>\n",
       "      <th>High</th>\n",
       "      <th>Low</th>\n",
       "      <th>Close</th>\n",
       "    </tr>\n",
       "    <tr>\n",
       "      <th>Date</th>\n",
       "      <th></th>\n",
       "      <th></th>\n",
       "      <th></th>\n",
       "      <th></th>\n",
       "    </tr>\n",
       "  </thead>\n",
       "  <tbody>\n",
       "    <tr>\n",
       "      <th>2010-01-04</th>\n",
       "      <td>112.370003</td>\n",
       "      <td>113.389999</td>\n",
       "      <td>111.510002</td>\n",
       "      <td>113.330002</td>\n",
       "    </tr>\n",
       "    <tr>\n",
       "      <th>2010-01-05</th>\n",
       "      <td>113.260002</td>\n",
       "      <td>113.680000</td>\n",
       "      <td>112.849998</td>\n",
       "      <td>113.629997</td>\n",
       "    </tr>\n",
       "    <tr>\n",
       "      <th>2010-01-06</th>\n",
       "      <td>113.519997</td>\n",
       "      <td>113.989998</td>\n",
       "      <td>113.430000</td>\n",
       "      <td>113.709999</td>\n",
       "    </tr>\n",
       "    <tr>\n",
       "      <th>2010-01-07</th>\n",
       "      <td>113.500000</td>\n",
       "      <td>114.330002</td>\n",
       "      <td>113.180000</td>\n",
       "      <td>114.190002</td>\n",
       "    </tr>\n",
       "    <tr>\n",
       "      <th>2010-01-08</th>\n",
       "      <td>113.889999</td>\n",
       "      <td>114.620003</td>\n",
       "      <td>113.660004</td>\n",
       "      <td>114.570000</td>\n",
       "    </tr>\n",
       "  </tbody>\n",
       "</table>\n",
       "</div>"
      ],
      "text/plain": [
       "                  Open        High         Low       Close\n",
       "Date                                                      \n",
       "2010-01-04  112.370003  113.389999  111.510002  113.330002\n",
       "2010-01-05  113.260002  113.680000  112.849998  113.629997\n",
       "2010-01-06  113.519997  113.989998  113.430000  113.709999\n",
       "2010-01-07  113.500000  114.330002  113.180000  114.190002\n",
       "2010-01-08  113.889999  114.620003  113.660004  114.570000"
      ]
     },
     "execution_count": 29,
     "metadata": {},
     "output_type": "execute_result"
    }
   ],
   "source": [
    "\n",
    "# Download the data from Yahoo Finance\n",
    "df = yf.download('SPY', start='2010-01-01', end='2021-01-01')\n",
    "\n",
    "df = df.dropna()\n",
    "df = df[['Open', 'High', 'Low', 'Close']]\n",
    "df.head()\n"
   ]
  },
  {
   "cell_type": "markdown",
   "metadata": {},
   "source": [
    "We then prepare the various input features which will be used by the artificial neural network learning for making the predictions. We define the following input features:\n",
    "\n",
    "- High minus Low price\n",
    "- Close minus Open price\n",
    "- Three day moving average\n",
    "- Ten day moving average\n",
    "- 30 day moving average\n",
    "- Standard deviation for a period of 5 days\n",
    "- Relative Strength Index\n",
    "- Williams %R"
   ]
  },
  {
   "cell_type": "code",
   "execution_count": 31,
   "metadata": {},
   "outputs": [
    {
     "data": {
      "text/html": [
       "<div>\n",
       "<style scoped>\n",
       "    .dataframe tbody tr th:only-of-type {\n",
       "        vertical-align: middle;\n",
       "    }\n",
       "\n",
       "    .dataframe tbody tr th {\n",
       "        vertical-align: top;\n",
       "    }\n",
       "\n",
       "    .dataframe thead th {\n",
       "        text-align: right;\n",
       "    }\n",
       "</style>\n",
       "<table border=\"1\" class=\"dataframe\">\n",
       "  <thead>\n",
       "    <tr style=\"text-align: right;\">\n",
       "      <th></th>\n",
       "      <th>Open</th>\n",
       "      <th>High</th>\n",
       "      <th>Low</th>\n",
       "      <th>Close</th>\n",
       "      <th>O-C</th>\n",
       "      <th>H-L</th>\n",
       "      <th>3day MA</th>\n",
       "      <th>10day MA</th>\n",
       "      <th>30day MA</th>\n",
       "      <th>Std_dev</th>\n",
       "      <th>RSI</th>\n",
       "      <th>Williams %R</th>\n",
       "    </tr>\n",
       "    <tr>\n",
       "      <th>Date</th>\n",
       "      <th></th>\n",
       "      <th></th>\n",
       "      <th></th>\n",
       "      <th></th>\n",
       "      <th></th>\n",
       "      <th></th>\n",
       "      <th></th>\n",
       "      <th></th>\n",
       "      <th></th>\n",
       "      <th></th>\n",
       "      <th></th>\n",
       "      <th></th>\n",
       "    </tr>\n",
       "  </thead>\n",
       "  <tbody>\n",
       "    <tr>\n",
       "      <th>2010-02-17</th>\n",
       "      <td>110.269997</td>\n",
       "      <td>110.410004</td>\n",
       "      <td>109.739998</td>\n",
       "      <td>110.260002</td>\n",
       "      <td>0.009995</td>\n",
       "      <td>0.670006</td>\n",
       "      <td>108.636665</td>\n",
       "      <td>107.934000</td>\n",
       "      <td>110.804667</td>\n",
       "      <td>1.333353</td>\n",
       "      <td>57.861431</td>\n",
       "      <td>-3.260898</td>\n",
       "    </tr>\n",
       "    <tr>\n",
       "      <th>2010-02-18</th>\n",
       "      <td>110.080002</td>\n",
       "      <td>111.139999</td>\n",
       "      <td>110.040001</td>\n",
       "      <td>110.910004</td>\n",
       "      <td>-0.830002</td>\n",
       "      <td>1.099998</td>\n",
       "      <td>109.346667</td>\n",
       "      <td>107.922001</td>\n",
       "      <td>110.702333</td>\n",
       "      <td>1.284186</td>\n",
       "      <td>61.160235</td>\n",
       "      <td>-4.572481</td>\n",
       "    </tr>\n",
       "    <tr>\n",
       "      <th>2010-02-19</th>\n",
       "      <td>110.620003</td>\n",
       "      <td>111.570000</td>\n",
       "      <td>110.360001</td>\n",
       "      <td>111.139999</td>\n",
       "      <td>-0.519997</td>\n",
       "      <td>1.209999</td>\n",
       "      <td>110.303335</td>\n",
       "      <td>108.030001</td>\n",
       "      <td>110.611667</td>\n",
       "      <td>1.235201</td>\n",
       "      <td>62.334008</td>\n",
       "      <td>-7.875465</td>\n",
       "    </tr>\n",
       "    <tr>\n",
       "      <th>2010-02-22</th>\n",
       "      <td>111.550003</td>\n",
       "      <td>111.580002</td>\n",
       "      <td>110.830002</td>\n",
       "      <td>111.160004</td>\n",
       "      <td>0.389999</td>\n",
       "      <td>0.750000</td>\n",
       "      <td>110.770002</td>\n",
       "      <td>108.500001</td>\n",
       "      <td>110.526000</td>\n",
       "      <td>0.622030</td>\n",
       "      <td>62.445061</td>\n",
       "      <td>-7.879888</td>\n",
       "    </tr>\n",
       "    <tr>\n",
       "      <th>2010-02-23</th>\n",
       "      <td>110.860001</td>\n",
       "      <td>111.199997</td>\n",
       "      <td>109.519997</td>\n",
       "      <td>109.809998</td>\n",
       "      <td>1.050003</td>\n",
       "      <td>1.680000</td>\n",
       "      <td>111.070002</td>\n",
       "      <td>108.950001</td>\n",
       "      <td>110.425000</td>\n",
       "      <td>0.596935</td>\n",
       "      <td>51.023695</td>\n",
       "      <td>-34.911329</td>\n",
       "    </tr>\n",
       "  </tbody>\n",
       "</table>\n",
       "</div>"
      ],
      "text/plain": [
       "                  Open        High         Low       Close       O-C  \\\n",
       "Date                                                                   \n",
       "2010-02-17  110.269997  110.410004  109.739998  110.260002  0.009995   \n",
       "2010-02-18  110.080002  111.139999  110.040001  110.910004 -0.830002   \n",
       "2010-02-19  110.620003  111.570000  110.360001  111.139999 -0.519997   \n",
       "2010-02-22  111.550003  111.580002  110.830002  111.160004  0.389999   \n",
       "2010-02-23  110.860001  111.199997  109.519997  109.809998  1.050003   \n",
       "\n",
       "                 H-L     3day MA    10day MA    30day MA   Std_dev        RSI  \\\n",
       "Date                                                                            \n",
       "2010-02-17  0.670006  108.636665  107.934000  110.804667  1.333353  57.861431   \n",
       "2010-02-18  1.099998  109.346667  107.922001  110.702333  1.284186  61.160235   \n",
       "2010-02-19  1.209999  110.303335  108.030001  110.611667  1.235201  62.334008   \n",
       "2010-02-22  0.750000  110.770002  108.500001  110.526000  0.622030  62.445061   \n",
       "2010-02-23  1.680000  111.070002  108.950001  110.425000  0.596935  51.023695   \n",
       "\n",
       "            Williams %R  \n",
       "Date                     \n",
       "2010-02-17    -3.260898  \n",
       "2010-02-18    -4.572481  \n",
       "2010-02-19    -7.875465  \n",
       "2010-02-22    -7.879888  \n",
       "2010-02-23   -34.911329  "
      ]
     },
     "execution_count": 31,
     "metadata": {},
     "output_type": "execute_result"
    }
   ],
   "source": [
    "import pandas_ta as pta\n",
    "\n",
    "# Predictor variables\n",
    "df['O-C'] = df.Open - df.Close\n",
    "df['H-L'] = df.High - df.Low\n",
    "df['3day MA'] = df.Close.shift(1).rolling(window=3).mean()\n",
    "df['10day MA'] = df.Close.shift(1).rolling(window=10).mean()\n",
    "df['30day MA'] = df.Close.shift(1).rolling(window=30).mean()\n",
    "df['Std_dev'] = df.Close.rolling(5).std()\n",
    "\n",
    "# Using pandas-ta for RSI\n",
    "df['RSI'] = pta.rsi(df.Close, length=9)\n",
    "\n",
    "# Using pandas-ta for Williams %R\n",
    "df['Williams %R'] = pta.willr(df.High, df.Low, df.Close, length=7)\n",
    "\n",
    "df = df.dropna()\n",
    "df.head()"
   ]
  },
  {
   "cell_type": "markdown",
   "metadata": {},
   "source": [
    "We then define the output value as price rise, which is a binary variable storing 1 when the closing price of tomorrow is greater than the closing price of today."
   ]
  },
  {
   "cell_type": "code",
   "execution_count": 32,
   "metadata": {},
   "outputs": [
    {
     "data": {
      "text/html": [
       "<div>\n",
       "<style scoped>\n",
       "    .dataframe tbody tr th:only-of-type {\n",
       "        vertical-align: middle;\n",
       "    }\n",
       "\n",
       "    .dataframe tbody tr th {\n",
       "        vertical-align: top;\n",
       "    }\n",
       "\n",
       "    .dataframe thead th {\n",
       "        text-align: right;\n",
       "    }\n",
       "</style>\n",
       "<table border=\"1\" class=\"dataframe\">\n",
       "  <thead>\n",
       "    <tr style=\"text-align: right;\">\n",
       "      <th></th>\n",
       "      <th>Open</th>\n",
       "      <th>High</th>\n",
       "      <th>Low</th>\n",
       "      <th>Close</th>\n",
       "      <th>O-C</th>\n",
       "      <th>H-L</th>\n",
       "      <th>3day MA</th>\n",
       "      <th>10day MA</th>\n",
       "      <th>30day MA</th>\n",
       "      <th>Std_dev</th>\n",
       "      <th>RSI</th>\n",
       "      <th>Williams %R</th>\n",
       "      <th>Price_Rise</th>\n",
       "    </tr>\n",
       "    <tr>\n",
       "      <th>Date</th>\n",
       "      <th></th>\n",
       "      <th></th>\n",
       "      <th></th>\n",
       "      <th></th>\n",
       "      <th></th>\n",
       "      <th></th>\n",
       "      <th></th>\n",
       "      <th></th>\n",
       "      <th></th>\n",
       "      <th></th>\n",
       "      <th></th>\n",
       "      <th></th>\n",
       "      <th></th>\n",
       "    </tr>\n",
       "  </thead>\n",
       "  <tbody>\n",
       "    <tr>\n",
       "      <th>2010-02-17</th>\n",
       "      <td>110.269997</td>\n",
       "      <td>110.410004</td>\n",
       "      <td>109.739998</td>\n",
       "      <td>110.260002</td>\n",
       "      <td>0.009995</td>\n",
       "      <td>0.670006</td>\n",
       "      <td>108.636665</td>\n",
       "      <td>107.934000</td>\n",
       "      <td>110.804667</td>\n",
       "      <td>1.333353</td>\n",
       "      <td>57.861431</td>\n",
       "      <td>-3.260898</td>\n",
       "      <td>1</td>\n",
       "    </tr>\n",
       "    <tr>\n",
       "      <th>2010-02-18</th>\n",
       "      <td>110.080002</td>\n",
       "      <td>111.139999</td>\n",
       "      <td>110.040001</td>\n",
       "      <td>110.910004</td>\n",
       "      <td>-0.830002</td>\n",
       "      <td>1.099998</td>\n",
       "      <td>109.346667</td>\n",
       "      <td>107.922001</td>\n",
       "      <td>110.702333</td>\n",
       "      <td>1.284186</td>\n",
       "      <td>61.160235</td>\n",
       "      <td>-4.572481</td>\n",
       "      <td>1</td>\n",
       "    </tr>\n",
       "    <tr>\n",
       "      <th>2010-02-19</th>\n",
       "      <td>110.620003</td>\n",
       "      <td>111.570000</td>\n",
       "      <td>110.360001</td>\n",
       "      <td>111.139999</td>\n",
       "      <td>-0.519997</td>\n",
       "      <td>1.209999</td>\n",
       "      <td>110.303335</td>\n",
       "      <td>108.030001</td>\n",
       "      <td>110.611667</td>\n",
       "      <td>1.235201</td>\n",
       "      <td>62.334008</td>\n",
       "      <td>-7.875465</td>\n",
       "      <td>1</td>\n",
       "    </tr>\n",
       "    <tr>\n",
       "      <th>2010-02-22</th>\n",
       "      <td>111.550003</td>\n",
       "      <td>111.580002</td>\n",
       "      <td>110.830002</td>\n",
       "      <td>111.160004</td>\n",
       "      <td>0.389999</td>\n",
       "      <td>0.750000</td>\n",
       "      <td>110.770002</td>\n",
       "      <td>108.500001</td>\n",
       "      <td>110.526000</td>\n",
       "      <td>0.622030</td>\n",
       "      <td>62.445061</td>\n",
       "      <td>-7.879888</td>\n",
       "      <td>0</td>\n",
       "    </tr>\n",
       "    <tr>\n",
       "      <th>2010-02-23</th>\n",
       "      <td>110.860001</td>\n",
       "      <td>111.199997</td>\n",
       "      <td>109.519997</td>\n",
       "      <td>109.809998</td>\n",
       "      <td>1.050003</td>\n",
       "      <td>1.680000</td>\n",
       "      <td>111.070002</td>\n",
       "      <td>108.950001</td>\n",
       "      <td>110.425000</td>\n",
       "      <td>0.596935</td>\n",
       "      <td>51.023695</td>\n",
       "      <td>-34.911329</td>\n",
       "      <td>1</td>\n",
       "    </tr>\n",
       "  </tbody>\n",
       "</table>\n",
       "</div>"
      ],
      "text/plain": [
       "                  Open        High         Low       Close       O-C  \\\n",
       "Date                                                                   \n",
       "2010-02-17  110.269997  110.410004  109.739998  110.260002  0.009995   \n",
       "2010-02-18  110.080002  111.139999  110.040001  110.910004 -0.830002   \n",
       "2010-02-19  110.620003  111.570000  110.360001  111.139999 -0.519997   \n",
       "2010-02-22  111.550003  111.580002  110.830002  111.160004  0.389999   \n",
       "2010-02-23  110.860001  111.199997  109.519997  109.809998  1.050003   \n",
       "\n",
       "                 H-L     3day MA    10day MA    30day MA   Std_dev        RSI  \\\n",
       "Date                                                                            \n",
       "2010-02-17  0.670006  108.636665  107.934000  110.804667  1.333353  57.861431   \n",
       "2010-02-18  1.099998  109.346667  107.922001  110.702333  1.284186  61.160235   \n",
       "2010-02-19  1.209999  110.303335  108.030001  110.611667  1.235201  62.334008   \n",
       "2010-02-22  0.750000  110.770002  108.500001  110.526000  0.622030  62.445061   \n",
       "2010-02-23  1.680000  111.070002  108.950001  110.425000  0.596935  51.023695   \n",
       "\n",
       "            Williams %R  Price_Rise  \n",
       "Date                                 \n",
       "2010-02-17    -3.260898           1  \n",
       "2010-02-18    -4.572481           1  \n",
       "2010-02-19    -7.875465           1  \n",
       "2010-02-22    -7.879888           0  \n",
       "2010-02-23   -34.911329           1  "
      ]
     },
     "execution_count": 32,
     "metadata": {},
     "output_type": "execute_result"
    }
   ],
   "source": [
    "df['Price_Rise'] = np.where(df.Close.shift(-1) > df.Close, 1, 0)\n",
    "df = df.dropna()\n",
    "df.head()"
   ]
  },
  {
   "cell_type": "code",
   "execution_count": 33,
   "metadata": {},
   "outputs": [],
   "source": [
    "# input and output data\n",
    "X = df.iloc[:, 4:-1]\n",
    "y = df.iloc[:, -1]\n",
    "\n",
    "split = int(len(df)*0.8)\n",
    "X_train, X_test, y_train, y_test = X[:split], X[split:], y[:split], y[split:]"
   ]
  },
  {
   "cell_type": "code",
   "execution_count": 36,
   "metadata": {},
   "outputs": [],
   "source": [
    "sc = StandardScaler()\n",
    "X_train = sc.fit_transform(X_train)\n",
    "X_test = sc.transform(X_test)"
   ]
  },
  {
   "cell_type": "code",
   "execution_count": 37,
   "metadata": {},
   "outputs": [],
   "source": [
    "# Building the Artificial Neural Network\n",
    "\n",
    "import tensorflow\n",
    "\n",
    "from tensorflow.keras.models import Sequential\n",
    "from tensorflow.keras.layers import Dense\n",
    "from tensorflow.keras.layers import Dropout"
   ]
  },
  {
   "cell_type": "code",
   "execution_count": 38,
   "metadata": {},
   "outputs": [],
   "source": [
    "classifier = Sequential()\n",
    "classifier.add(Dense(units = 128, kernel_initializer = 'uniform', activation = 'relu', input_dim = X.shape[1]))"
   ]
  },
  {
   "cell_type": "markdown",
   "metadata": {},
   "source": [
    "- Units: This defines the number of nodes or neurons in that particular layer. We have set this value to 128, meaning there will be 128 neurons in our hidden layer.\n",
    "- Kernel_initializer: This defines the starting values for the weights of the different neurons in the hidden layer. We have defined this to be ‘uniform’, which means that the weights will be initialized with values from a uniform distribution.\n",
    "- Activation: This is the activation function for the neurons in the particular hidden layer. Here we define the function as the rectified Linear Unit function or ‘relu’.\n",
    "- Input_dim: This defines the number of inputs to the hidden layer, we have defined this value to be equal to the number of columns of our input feature dataframe. This argument will not be required in the subsequent layers, as the model will know how many outputs the previous layer produced."
   ]
  },
  {
   "cell_type": "code",
   "execution_count": 39,
   "metadata": {},
   "outputs": [],
   "source": [
    "# We add a second hidden layer\n",
    "classifier.add(Dense(units = 128, kernel_initializer = 'uniform', activation = 'relu'))"
   ]
  },
  {
   "cell_type": "code",
   "execution_count": 40,
   "metadata": {},
   "outputs": [],
   "source": [
    "# we built the output layer\n",
    "classifier.add(Dense(units = 1, kernel_initializer = 'uniform', activation = 'sigmoid'))"
   ]
  },
  {
   "cell_type": "markdown",
   "metadata": {},
   "source": [
    "The activation function is chosen to be the Sigmoid function because we would want the prediction to be a probability of market moving upwards."
   ]
  },
  {
   "cell_type": "code",
   "execution_count": 41,
   "metadata": {},
   "outputs": [],
   "source": [
    "classifier.compile(optimizer = 'adam', loss = 'binary_crossentropy', metrics = ['accuracy'])"
   ]
  },
  {
   "cell_type": "markdown",
   "metadata": {},
   "source": [
    "- Optimizer: The optimizer is chosen to be ‘adam’, which is an extension of the stochastic gradient descent.\n",
    "- Loss: This defines the loss to be optimized during the training period. We define this loss to be the mean squared error.\n",
    "- Metrics: This defines the list of metrics to be evaluated by the model during the testing and training phase. We have chosen accuracy as our evaluation metric."
   ]
  },
  {
   "cell_type": "code",
   "execution_count": 42,
   "metadata": {},
   "outputs": [
    {
     "name": "stdout",
     "output_type": "stream",
     "text": [
      "Epoch 1/100\n",
      "220/220 [==============================] - 1s 2ms/step - loss: 0.6913 - accuracy: 0.5450\n",
      "Epoch 2/100\n",
      "220/220 [==============================] - 0s 2ms/step - loss: 0.6889 - accuracy: 0.5459\n",
      "Epoch 3/100\n",
      "220/220 [==============================] - 0s 2ms/step - loss: 0.6885 - accuracy: 0.5459\n",
      "Epoch 4/100\n",
      "220/220 [==============================] - 1s 5ms/step - loss: 0.6884 - accuracy: 0.5459\n",
      "Epoch 5/100\n",
      "220/220 [==============================] - 1s 6ms/step - loss: 0.6883 - accuracy: 0.5413\n",
      "Epoch 6/100\n",
      "220/220 [==============================] - 1s 3ms/step - loss: 0.6883 - accuracy: 0.5459\n",
      "Epoch 7/100\n",
      "220/220 [==============================] - 0s 2ms/step - loss: 0.6872 - accuracy: 0.5459\n",
      "Epoch 8/100\n",
      "220/220 [==============================] - 0s 2ms/step - loss: 0.6879 - accuracy: 0.5454\n",
      "Epoch 9/100\n",
      "220/220 [==============================] - 1s 2ms/step - loss: 0.6874 - accuracy: 0.5459\n",
      "Epoch 10/100\n",
      "220/220 [==============================] - 0s 2ms/step - loss: 0.6873 - accuracy: 0.5450\n",
      "Epoch 11/100\n",
      "220/220 [==============================] - 0s 2ms/step - loss: 0.6866 - accuracy: 0.5450\n",
      "Epoch 12/100\n",
      "220/220 [==============================] - 0s 2ms/step - loss: 0.6867 - accuracy: 0.5445\n",
      "Epoch 13/100\n",
      "220/220 [==============================] - 0s 2ms/step - loss: 0.6867 - accuracy: 0.5463\n",
      "Epoch 14/100\n",
      "220/220 [==============================] - 0s 2ms/step - loss: 0.6858 - accuracy: 0.5500\n",
      "Epoch 15/100\n",
      "220/220 [==============================] - 0s 2ms/step - loss: 0.6848 - accuracy: 0.5450\n",
      "Epoch 16/100\n",
      "220/220 [==============================] - 0s 2ms/step - loss: 0.6867 - accuracy: 0.5482\n",
      "Epoch 17/100\n",
      "220/220 [==============================] - 0s 2ms/step - loss: 0.6855 - accuracy: 0.5486\n",
      "Epoch 18/100\n",
      "220/220 [==============================] - 0s 2ms/step - loss: 0.6841 - accuracy: 0.5532\n",
      "Epoch 19/100\n",
      "220/220 [==============================] - 0s 2ms/step - loss: 0.6831 - accuracy: 0.5527\n",
      "Epoch 20/100\n",
      "220/220 [==============================] - 1s 3ms/step - loss: 0.6828 - accuracy: 0.5605\n",
      "Epoch 21/100\n",
      "220/220 [==============================] - 1s 6ms/step - loss: 0.6822 - accuracy: 0.5586\n",
      "Epoch 22/100\n",
      "220/220 [==============================] - 1s 5ms/step - loss: 0.6818 - accuracy: 0.5614\n",
      "Epoch 23/100\n",
      "220/220 [==============================] - 1s 3ms/step - loss: 0.6802 - accuracy: 0.5646\n",
      "Epoch 24/100\n",
      "220/220 [==============================] - 1s 2ms/step - loss: 0.6789 - accuracy: 0.5778\n",
      "Epoch 25/100\n",
      "220/220 [==============================] - 1s 2ms/step - loss: 0.6788 - accuracy: 0.5673\n",
      "Epoch 26/100\n",
      "220/220 [==============================] - 1s 3ms/step - loss: 0.6780 - accuracy: 0.5637\n",
      "Epoch 27/100\n",
      "220/220 [==============================] - 1s 2ms/step - loss: 0.6767 - accuracy: 0.5774\n",
      "Epoch 28/100\n",
      "220/220 [==============================] - 1s 2ms/step - loss: 0.6734 - accuracy: 0.5792\n",
      "Epoch 29/100\n",
      "220/220 [==============================] - 1s 3ms/step - loss: 0.6736 - accuracy: 0.5851\n",
      "Epoch 30/100\n",
      "220/220 [==============================] - 1s 3ms/step - loss: 0.6727 - accuracy: 0.5778\n",
      "Epoch 31/100\n",
      "220/220 [==============================] - 1s 3ms/step - loss: 0.6716 - accuracy: 0.5815\n",
      "Epoch 32/100\n",
      "220/220 [==============================] - 1s 3ms/step - loss: 0.6707 - accuracy: 0.5796\n",
      "Epoch 33/100\n",
      "220/220 [==============================] - 1s 3ms/step - loss: 0.6680 - accuracy: 0.5851\n",
      "Epoch 34/100\n",
      "220/220 [==============================] - 1s 3ms/step - loss: 0.6675 - accuracy: 0.5952\n",
      "Epoch 35/100\n",
      "220/220 [==============================] - 1s 4ms/step - loss: 0.6651 - accuracy: 0.5984\n",
      "Epoch 36/100\n",
      "220/220 [==============================] - 1s 3ms/step - loss: 0.6646 - accuracy: 0.6029\n",
      "Epoch 37/100\n",
      "220/220 [==============================] - 1s 4ms/step - loss: 0.6620 - accuracy: 0.6111\n",
      "Epoch 38/100\n",
      "220/220 [==============================] - 1s 3ms/step - loss: 0.6620 - accuracy: 0.6020\n",
      "Epoch 39/100\n",
      "220/220 [==============================] - 1s 3ms/step - loss: 0.6579 - accuracy: 0.5984\n",
      "Epoch 40/100\n",
      "220/220 [==============================] - 1s 4ms/step - loss: 0.6564 - accuracy: 0.6075\n",
      "Epoch 41/100\n",
      "220/220 [==============================] - 1s 4ms/step - loss: 0.6550 - accuracy: 0.6107\n",
      "Epoch 42/100\n",
      "220/220 [==============================] - 1s 4ms/step - loss: 0.6525 - accuracy: 0.6207\n",
      "Epoch 43/100\n",
      "220/220 [==============================] - 1s 3ms/step - loss: 0.6505 - accuracy: 0.6143\n",
      "Epoch 44/100\n",
      "220/220 [==============================] - 1s 3ms/step - loss: 0.6483 - accuracy: 0.6102\n",
      "Epoch 45/100\n",
      "220/220 [==============================] - 1s 3ms/step - loss: 0.6453 - accuracy: 0.6171\n",
      "Epoch 46/100\n",
      "220/220 [==============================] - 1s 4ms/step - loss: 0.6433 - accuracy: 0.6175\n",
      "Epoch 47/100\n",
      "220/220 [==============================] - 1s 4ms/step - loss: 0.6405 - accuracy: 0.6271\n",
      "Epoch 48/100\n",
      "220/220 [==============================] - 1s 4ms/step - loss: 0.6379 - accuracy: 0.6203\n",
      "Epoch 49/100\n",
      "220/220 [==============================] - 1s 5ms/step - loss: 0.6344 - accuracy: 0.6362\n",
      "Epoch 50/100\n",
      "220/220 [==============================] - 1s 4ms/step - loss: 0.6355 - accuracy: 0.6312\n",
      "Epoch 51/100\n",
      "220/220 [==============================] - 1s 3ms/step - loss: 0.6327 - accuracy: 0.6349\n",
      "Epoch 52/100\n",
      "220/220 [==============================] - 1s 4ms/step - loss: 0.6294 - accuracy: 0.6335\n",
      "Epoch 53/100\n",
      "220/220 [==============================] - 1s 3ms/step - loss: 0.6268 - accuracy: 0.6385\n",
      "Epoch 54/100\n",
      "220/220 [==============================] - 1s 6ms/step - loss: 0.6255 - accuracy: 0.6394\n",
      "Epoch 55/100\n",
      "220/220 [==============================] - 2s 9ms/step - loss: 0.6231 - accuracy: 0.6440\n",
      "Epoch 56/100\n",
      "220/220 [==============================] - 1s 5ms/step - loss: 0.6202 - accuracy: 0.6495\n",
      "Epoch 57/100\n",
      "220/220 [==============================] - 1s 4ms/step - loss: 0.6193 - accuracy: 0.6431\n",
      "Epoch 58/100\n",
      "220/220 [==============================] - 1s 4ms/step - loss: 0.6162 - accuracy: 0.6531\n",
      "Epoch 59/100\n",
      "220/220 [==============================] - 1s 4ms/step - loss: 0.6106 - accuracy: 0.6540\n",
      "Epoch 60/100\n",
      "220/220 [==============================] - 1s 3ms/step - loss: 0.6099 - accuracy: 0.6559\n",
      "Epoch 61/100\n",
      "220/220 [==============================] - 1s 2ms/step - loss: 0.6046 - accuracy: 0.6540\n",
      "Epoch 62/100\n",
      "220/220 [==============================] - 1s 3ms/step - loss: 0.6057 - accuracy: 0.6559\n",
      "Epoch 63/100\n",
      "220/220 [==============================] - 1s 3ms/step - loss: 0.6038 - accuracy: 0.6586\n",
      "Epoch 64/100\n",
      "220/220 [==============================] - 1s 3ms/step - loss: 0.6022 - accuracy: 0.6613\n",
      "Epoch 65/100\n",
      "220/220 [==============================] - 1s 3ms/step - loss: 0.6016 - accuracy: 0.6641\n",
      "Epoch 66/100\n",
      "220/220 [==============================] - 1s 3ms/step - loss: 0.5957 - accuracy: 0.6728\n",
      "Epoch 67/100\n",
      "220/220 [==============================] - 1s 3ms/step - loss: 0.5946 - accuracy: 0.6641\n",
      "Epoch 68/100\n",
      "220/220 [==============================] - 1s 3ms/step - loss: 0.5932 - accuracy: 0.6759\n",
      "Epoch 69/100\n",
      "220/220 [==============================] - 1s 4ms/step - loss: 0.5882 - accuracy: 0.6682\n",
      "Epoch 70/100\n",
      "220/220 [==============================] - 1s 6ms/step - loss: 0.5875 - accuracy: 0.6796\n",
      "Epoch 71/100\n",
      "220/220 [==============================] - 1s 4ms/step - loss: 0.5873 - accuracy: 0.6746\n",
      "Epoch 72/100\n",
      "220/220 [==============================] - 1s 4ms/step - loss: 0.5847 - accuracy: 0.6737\n",
      "Epoch 73/100\n",
      "220/220 [==============================] - 1s 6ms/step - loss: 0.5821 - accuracy: 0.6773\n",
      "Epoch 74/100\n",
      "220/220 [==============================] - 1s 4ms/step - loss: 0.5833 - accuracy: 0.6705\n",
      "Epoch 75/100\n",
      "220/220 [==============================] - 1s 3ms/step - loss: 0.5779 - accuracy: 0.6837\n",
      "Epoch 76/100\n",
      "220/220 [==============================] - 1s 3ms/step - loss: 0.5755 - accuracy: 0.6773\n",
      "Epoch 77/100\n",
      "220/220 [==============================] - 1s 3ms/step - loss: 0.5720 - accuracy: 0.6896\n",
      "Epoch 78/100\n",
      "220/220 [==============================] - 1s 3ms/step - loss: 0.5707 - accuracy: 0.6878\n",
      "Epoch 79/100\n",
      "220/220 [==============================] - 1s 4ms/step - loss: 0.5697 - accuracy: 0.6919\n",
      "Epoch 80/100\n",
      "220/220 [==============================] - 1s 3ms/step - loss: 0.5679 - accuracy: 0.6892\n",
      "Epoch 81/100\n"
     ]
    },
    {
     "name": "stdout",
     "output_type": "stream",
     "text": [
      "220/220 [==============================] - 1s 2ms/step - loss: 0.5663 - accuracy: 0.6928\n",
      "Epoch 82/100\n",
      "220/220 [==============================] - 1s 2ms/step - loss: 0.5652 - accuracy: 0.6837\n",
      "Epoch 83/100\n",
      "220/220 [==============================] - 0s 2ms/step - loss: 0.5580 - accuracy: 0.6983\n",
      "Epoch 84/100\n",
      "220/220 [==============================] - 1s 3ms/step - loss: 0.5585 - accuracy: 0.6864\n",
      "Epoch 85/100\n",
      "220/220 [==============================] - 1s 3ms/step - loss: 0.5598 - accuracy: 0.6969\n",
      "Epoch 86/100\n",
      "220/220 [==============================] - 1s 4ms/step - loss: 0.5572 - accuracy: 0.7024\n",
      "Epoch 87/100\n",
      "220/220 [==============================] - 1s 5ms/step - loss: 0.5543 - accuracy: 0.7047\n",
      "Epoch 88/100\n",
      "220/220 [==============================] - 1s 4ms/step - loss: 0.5547 - accuracy: 0.6974\n",
      "Epoch 89/100\n",
      "220/220 [==============================] - 1s 3ms/step - loss: 0.5487 - accuracy: 0.7006\n",
      "Epoch 90/100\n",
      "220/220 [==============================] - 1s 3ms/step - loss: 0.5467 - accuracy: 0.7084\n",
      "Epoch 91/100\n",
      "220/220 [==============================] - 1s 3ms/step - loss: 0.5463 - accuracy: 0.7020\n",
      "Epoch 92/100\n",
      "220/220 [==============================] - 1s 3ms/step - loss: 0.5415 - accuracy: 0.7093\n",
      "Epoch 93/100\n",
      "220/220 [==============================] - 1s 3ms/step - loss: 0.5430 - accuracy: 0.7070\n",
      "Epoch 94/100\n",
      "220/220 [==============================] - 1s 2ms/step - loss: 0.5351 - accuracy: 0.7175\n",
      "Epoch 95/100\n",
      "220/220 [==============================] - 1s 3ms/step - loss: 0.5452 - accuracy: 0.7006\n",
      "Epoch 96/100\n",
      "220/220 [==============================] - 1s 4ms/step - loss: 0.5336 - accuracy: 0.7243\n",
      "Epoch 97/100\n",
      "220/220 [==============================] - 1s 6ms/step - loss: 0.5316 - accuracy: 0.7147\n",
      "Epoch 98/100\n",
      "220/220 [==============================] - 1s 4ms/step - loss: 0.5330 - accuracy: 0.7161\n",
      "Epoch 99/100\n",
      "220/220 [==============================] - 1s 4ms/step - loss: 0.5258 - accuracy: 0.7275\n",
      "Epoch 100/100\n",
      "220/220 [==============================] - 1s 4ms/step - loss: 0.5222 - accuracy: 0.7234\n"
     ]
    }
   ],
   "source": [
    "model = classifier.fit(X_train, y_train, batch_size = 10, epochs = 100)"
   ]
  },
  {
   "cell_type": "code",
   "execution_count": 44,
   "metadata": {},
   "outputs": [
    {
     "name": "stdout",
     "output_type": "stream",
     "text": [
      "18/18 [==============================] - 0s 1ms/step\n"
     ]
    }
   ],
   "source": [
    "y_pred = classifier.predict(X_test)\n",
    "y_pred = (y_pred > 0.5)"
   ]
  },
  {
   "cell_type": "markdown",
   "metadata": {},
   "source": [
    "We then convert y_pred to store binary values by storing the condition y_pred > 5. Now, the variable y_pred stores either True or False depending on whether the predicted value was greater or less than 0.5."
   ]
  },
  {
   "cell_type": "code",
   "execution_count": 47,
   "metadata": {},
   "outputs": [],
   "source": [
    "df['y_pred'] = np.NaN\n",
    "df.iloc[(len(df) - len(y_pred)):,-1:] = y_pred.astype(np.float64)\n",
    "trade_df = df.dropna()"
   ]
  },
  {
   "cell_type": "code",
   "execution_count": 49,
   "metadata": {},
   "outputs": [
    {
     "data": {
      "text/html": [
       "<div>\n",
       "<style scoped>\n",
       "    .dataframe tbody tr th:only-of-type {\n",
       "        vertical-align: middle;\n",
       "    }\n",
       "\n",
       "    .dataframe tbody tr th {\n",
       "        vertical-align: top;\n",
       "    }\n",
       "\n",
       "    .dataframe thead th {\n",
       "        text-align: right;\n",
       "    }\n",
       "</style>\n",
       "<table border=\"1\" class=\"dataframe\">\n",
       "  <thead>\n",
       "    <tr style=\"text-align: right;\">\n",
       "      <th></th>\n",
       "      <th>Open</th>\n",
       "      <th>High</th>\n",
       "      <th>Low</th>\n",
       "      <th>Close</th>\n",
       "      <th>O-C</th>\n",
       "      <th>H-L</th>\n",
       "      <th>3day MA</th>\n",
       "      <th>10day MA</th>\n",
       "      <th>30day MA</th>\n",
       "      <th>Std_dev</th>\n",
       "      <th>RSI</th>\n",
       "      <th>Williams %R</th>\n",
       "      <th>Price_Rise</th>\n",
       "      <th>y_pred</th>\n",
       "      <th>Tomorrows Returns</th>\n",
       "    </tr>\n",
       "    <tr>\n",
       "      <th>Date</th>\n",
       "      <th></th>\n",
       "      <th></th>\n",
       "      <th></th>\n",
       "      <th></th>\n",
       "      <th></th>\n",
       "      <th></th>\n",
       "      <th></th>\n",
       "      <th></th>\n",
       "      <th></th>\n",
       "      <th></th>\n",
       "      <th></th>\n",
       "      <th></th>\n",
       "      <th></th>\n",
       "      <th></th>\n",
       "      <th></th>\n",
       "    </tr>\n",
       "  </thead>\n",
       "  <tbody>\n",
       "    <tr>\n",
       "      <th>2018-10-29</th>\n",
       "      <td>268.799988</td>\n",
       "      <td>270.250000</td>\n",
       "      <td>259.850006</td>\n",
       "      <td>263.859985</td>\n",
       "      <td>4.940002</td>\n",
       "      <td>10.399994</td>\n",
       "      <td>266.909993</td>\n",
       "      <td>273.724997</td>\n",
       "      <td>283.375333</td>\n",
       "      <td>4.080481</td>\n",
       "      <td>27.075731</td>\n",
       "      <td>-79.383121</td>\n",
       "      <td>1</td>\n",
       "      <td>1.0</td>\n",
       "      <td>0.014710</td>\n",
       "    </tr>\n",
       "    <tr>\n",
       "      <th>2018-10-30</th>\n",
       "      <td>263.670013</td>\n",
       "      <td>268.119995</td>\n",
       "      <td>263.119995</td>\n",
       "      <td>267.769989</td>\n",
       "      <td>-4.099976</td>\n",
       "      <td>5.000000</td>\n",
       "      <td>266.423319</td>\n",
       "      <td>272.670996</td>\n",
       "      <td>282.525999</td>\n",
       "      <td>2.457450</td>\n",
       "      <td>37.234545</td>\n",
       "      <td>-54.768748</td>\n",
       "      <td>1</td>\n",
       "      <td>1.0</td>\n",
       "      <td>0.010624</td>\n",
       "    </tr>\n",
       "    <tr>\n",
       "      <th>2018-10-31</th>\n",
       "      <td>270.649994</td>\n",
       "      <td>273.230011</td>\n",
       "      <td>270.119995</td>\n",
       "      <td>270.630005</td>\n",
       "      <td>0.019989</td>\n",
       "      <td>3.110016</td>\n",
       "      <td>265.653320</td>\n",
       "      <td>271.407996</td>\n",
       "      <td>281.754665</td>\n",
       "      <td>2.935943</td>\n",
       "      <td>43.689645</td>\n",
       "      <td>-28.228984</td>\n",
       "      <td>1</td>\n",
       "      <td>0.0</td>\n",
       "      <td>0.010586</td>\n",
       "    </tr>\n",
       "    <tr>\n",
       "      <th>2018-11-01</th>\n",
       "      <td>271.600006</td>\n",
       "      <td>273.730011</td>\n",
       "      <td>270.380005</td>\n",
       "      <td>273.510010</td>\n",
       "      <td>-1.910004</td>\n",
       "      <td>3.350006</td>\n",
       "      <td>267.419993</td>\n",
       "      <td>270.425995</td>\n",
       "      <td>281.068332</td>\n",
       "      <td>3.916527</td>\n",
       "      <td>49.565697</td>\n",
       "      <td>-1.797268</td>\n",
       "      <td>0</td>\n",
       "      <td>1.0</td>\n",
       "      <td>-0.005941</td>\n",
       "    </tr>\n",
       "    <tr>\n",
       "      <th>2018-11-02</th>\n",
       "      <td>274.750000</td>\n",
       "      <td>275.230011</td>\n",
       "      <td>269.589996</td>\n",
       "      <td>271.890015</td>\n",
       "      <td>2.859985</td>\n",
       "      <td>5.640015</td>\n",
       "      <td>270.636668</td>\n",
       "      <td>270.136996</td>\n",
       "      <td>280.399333</td>\n",
       "      <td>3.803513</td>\n",
       "      <td>46.495400</td>\n",
       "      <td>-21.716484</td>\n",
       "      <td>1</td>\n",
       "      <td>0.0</td>\n",
       "      <td>0.005502</td>\n",
       "    </tr>\n",
       "  </tbody>\n",
       "</table>\n",
       "</div>"
      ],
      "text/plain": [
       "                  Open        High         Low       Close       O-C  \\\n",
       "Date                                                                   \n",
       "2018-10-29  268.799988  270.250000  259.850006  263.859985  4.940002   \n",
       "2018-10-30  263.670013  268.119995  263.119995  267.769989 -4.099976   \n",
       "2018-10-31  270.649994  273.230011  270.119995  270.630005  0.019989   \n",
       "2018-11-01  271.600006  273.730011  270.380005  273.510010 -1.910004   \n",
       "2018-11-02  274.750000  275.230011  269.589996  271.890015  2.859985   \n",
       "\n",
       "                  H-L     3day MA    10day MA    30day MA   Std_dev  \\\n",
       "Date                                                                  \n",
       "2018-10-29  10.399994  266.909993  273.724997  283.375333  4.080481   \n",
       "2018-10-30   5.000000  266.423319  272.670996  282.525999  2.457450   \n",
       "2018-10-31   3.110016  265.653320  271.407996  281.754665  2.935943   \n",
       "2018-11-01   3.350006  267.419993  270.425995  281.068332  3.916527   \n",
       "2018-11-02   5.640015  270.636668  270.136996  280.399333  3.803513   \n",
       "\n",
       "                  RSI  Williams %R  Price_Rise  y_pred  Tomorrows Returns  \n",
       "Date                                                                       \n",
       "2018-10-29  27.075731   -79.383121           1     1.0           0.014710  \n",
       "2018-10-30  37.234545   -54.768748           1     1.0           0.010624  \n",
       "2018-10-31  43.689645   -28.228984           1     0.0           0.010586  \n",
       "2018-11-01  49.565697    -1.797268           0     1.0          -0.005941  \n",
       "2018-11-02  46.495400   -21.716484           1     0.0           0.005502  "
      ]
     },
     "execution_count": 49,
     "metadata": {},
     "output_type": "execute_result"
    }
   ],
   "source": [
    "trade_df = df.dropna().copy()  # Explicitly create a copy\n",
    "trade_df['Tomorrows Returns'] = 0.\n",
    "trade_df['Tomorrows Returns'] = np.log(trade_df['Close']/trade_df['Close'].shift(1))\n",
    "trade_df['Tomorrows Returns'] = trade_df['Tomorrows Returns'].shift(-1)\n",
    "trade_df.head()"
   ]
  },
  {
   "cell_type": "code",
   "execution_count": 50,
   "metadata": {},
   "outputs": [
    {
     "data": {
      "text/html": [
       "<div>\n",
       "<style scoped>\n",
       "    .dataframe tbody tr th:only-of-type {\n",
       "        vertical-align: middle;\n",
       "    }\n",
       "\n",
       "    .dataframe tbody tr th {\n",
       "        vertical-align: top;\n",
       "    }\n",
       "\n",
       "    .dataframe thead th {\n",
       "        text-align: right;\n",
       "    }\n",
       "</style>\n",
       "<table border=\"1\" class=\"dataframe\">\n",
       "  <thead>\n",
       "    <tr style=\"text-align: right;\">\n",
       "      <th></th>\n",
       "      <th>Open</th>\n",
       "      <th>High</th>\n",
       "      <th>Low</th>\n",
       "      <th>Close</th>\n",
       "      <th>O-C</th>\n",
       "      <th>H-L</th>\n",
       "      <th>3day MA</th>\n",
       "      <th>10day MA</th>\n",
       "      <th>30day MA</th>\n",
       "      <th>Std_dev</th>\n",
       "      <th>RSI</th>\n",
       "      <th>Williams %R</th>\n",
       "      <th>Price_Rise</th>\n",
       "      <th>y_pred</th>\n",
       "      <th>Tomorrows Returns</th>\n",
       "      <th>Strategy Returns</th>\n",
       "    </tr>\n",
       "    <tr>\n",
       "      <th>Date</th>\n",
       "      <th></th>\n",
       "      <th></th>\n",
       "      <th></th>\n",
       "      <th></th>\n",
       "      <th></th>\n",
       "      <th></th>\n",
       "      <th></th>\n",
       "      <th></th>\n",
       "      <th></th>\n",
       "      <th></th>\n",
       "      <th></th>\n",
       "      <th></th>\n",
       "      <th></th>\n",
       "      <th></th>\n",
       "      <th></th>\n",
       "      <th></th>\n",
       "    </tr>\n",
       "  </thead>\n",
       "  <tbody>\n",
       "    <tr>\n",
       "      <th>2018-10-29</th>\n",
       "      <td>268.799988</td>\n",
       "      <td>270.250000</td>\n",
       "      <td>259.850006</td>\n",
       "      <td>263.859985</td>\n",
       "      <td>4.940002</td>\n",
       "      <td>10.399994</td>\n",
       "      <td>266.909993</td>\n",
       "      <td>273.724997</td>\n",
       "      <td>283.375333</td>\n",
       "      <td>4.080481</td>\n",
       "      <td>27.075731</td>\n",
       "      <td>-79.383121</td>\n",
       "      <td>1</td>\n",
       "      <td>1.0</td>\n",
       "      <td>0.014710</td>\n",
       "      <td>0.014710</td>\n",
       "    </tr>\n",
       "    <tr>\n",
       "      <th>2018-10-30</th>\n",
       "      <td>263.670013</td>\n",
       "      <td>268.119995</td>\n",
       "      <td>263.119995</td>\n",
       "      <td>267.769989</td>\n",
       "      <td>-4.099976</td>\n",
       "      <td>5.000000</td>\n",
       "      <td>266.423319</td>\n",
       "      <td>272.670996</td>\n",
       "      <td>282.525999</td>\n",
       "      <td>2.457450</td>\n",
       "      <td>37.234545</td>\n",
       "      <td>-54.768748</td>\n",
       "      <td>1</td>\n",
       "      <td>1.0</td>\n",
       "      <td>0.010624</td>\n",
       "      <td>0.010624</td>\n",
       "    </tr>\n",
       "    <tr>\n",
       "      <th>2018-10-31</th>\n",
       "      <td>270.649994</td>\n",
       "      <td>273.230011</td>\n",
       "      <td>270.119995</td>\n",
       "      <td>270.630005</td>\n",
       "      <td>0.019989</td>\n",
       "      <td>3.110016</td>\n",
       "      <td>265.653320</td>\n",
       "      <td>271.407996</td>\n",
       "      <td>281.754665</td>\n",
       "      <td>2.935943</td>\n",
       "      <td>43.689645</td>\n",
       "      <td>-28.228984</td>\n",
       "      <td>1</td>\n",
       "      <td>0.0</td>\n",
       "      <td>0.010586</td>\n",
       "      <td>-0.010586</td>\n",
       "    </tr>\n",
       "    <tr>\n",
       "      <th>2018-11-01</th>\n",
       "      <td>271.600006</td>\n",
       "      <td>273.730011</td>\n",
       "      <td>270.380005</td>\n",
       "      <td>273.510010</td>\n",
       "      <td>-1.910004</td>\n",
       "      <td>3.350006</td>\n",
       "      <td>267.419993</td>\n",
       "      <td>270.425995</td>\n",
       "      <td>281.068332</td>\n",
       "      <td>3.916527</td>\n",
       "      <td>49.565697</td>\n",
       "      <td>-1.797268</td>\n",
       "      <td>0</td>\n",
       "      <td>1.0</td>\n",
       "      <td>-0.005941</td>\n",
       "      <td>-0.005941</td>\n",
       "    </tr>\n",
       "    <tr>\n",
       "      <th>2018-11-02</th>\n",
       "      <td>274.750000</td>\n",
       "      <td>275.230011</td>\n",
       "      <td>269.589996</td>\n",
       "      <td>271.890015</td>\n",
       "      <td>2.859985</td>\n",
       "      <td>5.640015</td>\n",
       "      <td>270.636668</td>\n",
       "      <td>270.136996</td>\n",
       "      <td>280.399333</td>\n",
       "      <td>3.803513</td>\n",
       "      <td>46.495400</td>\n",
       "      <td>-21.716484</td>\n",
       "      <td>1</td>\n",
       "      <td>0.0</td>\n",
       "      <td>0.005502</td>\n",
       "      <td>-0.005502</td>\n",
       "    </tr>\n",
       "  </tbody>\n",
       "</table>\n",
       "</div>"
      ],
      "text/plain": [
       "                  Open        High         Low       Close       O-C  \\\n",
       "Date                                                                   \n",
       "2018-10-29  268.799988  270.250000  259.850006  263.859985  4.940002   \n",
       "2018-10-30  263.670013  268.119995  263.119995  267.769989 -4.099976   \n",
       "2018-10-31  270.649994  273.230011  270.119995  270.630005  0.019989   \n",
       "2018-11-01  271.600006  273.730011  270.380005  273.510010 -1.910004   \n",
       "2018-11-02  274.750000  275.230011  269.589996  271.890015  2.859985   \n",
       "\n",
       "                  H-L     3day MA    10day MA    30day MA   Std_dev  \\\n",
       "Date                                                                  \n",
       "2018-10-29  10.399994  266.909993  273.724997  283.375333  4.080481   \n",
       "2018-10-30   5.000000  266.423319  272.670996  282.525999  2.457450   \n",
       "2018-10-31   3.110016  265.653320  271.407996  281.754665  2.935943   \n",
       "2018-11-01   3.350006  267.419993  270.425995  281.068332  3.916527   \n",
       "2018-11-02   5.640015  270.636668  270.136996  280.399333  3.803513   \n",
       "\n",
       "                  RSI  Williams %R  Price_Rise  y_pred  Tomorrows Returns  \\\n",
       "Date                                                                        \n",
       "2018-10-29  27.075731   -79.383121           1     1.0           0.014710   \n",
       "2018-10-30  37.234545   -54.768748           1     1.0           0.010624   \n",
       "2018-10-31  43.689645   -28.228984           1     0.0           0.010586   \n",
       "2018-11-01  49.565697    -1.797268           0     1.0          -0.005941   \n",
       "2018-11-02  46.495400   -21.716484           1     0.0           0.005502   \n",
       "\n",
       "            Strategy Returns  \n",
       "Date                          \n",
       "2018-10-29          0.014710  \n",
       "2018-10-30          0.010624  \n",
       "2018-10-31         -0.010586  \n",
       "2018-11-01         -0.005941  \n",
       "2018-11-02         -0.005502  "
      ]
     },
     "execution_count": 50,
     "metadata": {},
     "output_type": "execute_result"
    }
   ],
   "source": [
    "trade_df['Strategy Returns'] = 0.\n",
    "trade_df['Strategy Returns'] = np.where(trade_df['y_pred'] == True, trade_df['Tomorrows Returns'], - trade_df['Tomorrows Returns'])\n",
    "trade_df.head()"
   ]
  },
  {
   "cell_type": "code",
   "execution_count": 52,
   "metadata": {},
   "outputs": [
    {
     "data": {
      "text/html": [
       "<div>\n",
       "<style scoped>\n",
       "    .dataframe tbody tr th:only-of-type {\n",
       "        vertical-align: middle;\n",
       "    }\n",
       "\n",
       "    .dataframe tbody tr th {\n",
       "        vertical-align: top;\n",
       "    }\n",
       "\n",
       "    .dataframe thead th {\n",
       "        text-align: right;\n",
       "    }\n",
       "</style>\n",
       "<table border=\"1\" class=\"dataframe\">\n",
       "  <thead>\n",
       "    <tr style=\"text-align: right;\">\n",
       "      <th></th>\n",
       "      <th>Open</th>\n",
       "      <th>High</th>\n",
       "      <th>Low</th>\n",
       "      <th>Close</th>\n",
       "      <th>O-C</th>\n",
       "      <th>H-L</th>\n",
       "      <th>3day MA</th>\n",
       "      <th>10day MA</th>\n",
       "      <th>30day MA</th>\n",
       "      <th>Std_dev</th>\n",
       "      <th>RSI</th>\n",
       "      <th>Williams %R</th>\n",
       "      <th>Price_Rise</th>\n",
       "      <th>y_pred</th>\n",
       "      <th>Tomorrows Returns</th>\n",
       "      <th>Strategy Returns</th>\n",
       "      <th>Cumulative Market Returns</th>\n",
       "      <th>Cumulative Strategy Returns</th>\n",
       "    </tr>\n",
       "    <tr>\n",
       "      <th>Date</th>\n",
       "      <th></th>\n",
       "      <th></th>\n",
       "      <th></th>\n",
       "      <th></th>\n",
       "      <th></th>\n",
       "      <th></th>\n",
       "      <th></th>\n",
       "      <th></th>\n",
       "      <th></th>\n",
       "      <th></th>\n",
       "      <th></th>\n",
       "      <th></th>\n",
       "      <th></th>\n",
       "      <th></th>\n",
       "      <th></th>\n",
       "      <th></th>\n",
       "      <th></th>\n",
       "      <th></th>\n",
       "    </tr>\n",
       "  </thead>\n",
       "  <tbody>\n",
       "    <tr>\n",
       "      <th>2018-10-29</th>\n",
       "      <td>268.799988</td>\n",
       "      <td>270.250000</td>\n",
       "      <td>259.850006</td>\n",
       "      <td>263.859985</td>\n",
       "      <td>4.940002</td>\n",
       "      <td>10.399994</td>\n",
       "      <td>266.909993</td>\n",
       "      <td>273.724997</td>\n",
       "      <td>283.375333</td>\n",
       "      <td>4.080481</td>\n",
       "      <td>27.075731</td>\n",
       "      <td>-79.383121</td>\n",
       "      <td>1</td>\n",
       "      <td>1.0</td>\n",
       "      <td>0.014710</td>\n",
       "      <td>0.014710</td>\n",
       "      <td>0.014710</td>\n",
       "      <td>0.014710</td>\n",
       "    </tr>\n",
       "    <tr>\n",
       "      <th>2018-10-30</th>\n",
       "      <td>263.670013</td>\n",
       "      <td>268.119995</td>\n",
       "      <td>263.119995</td>\n",
       "      <td>267.769989</td>\n",
       "      <td>-4.099976</td>\n",
       "      <td>5.000000</td>\n",
       "      <td>266.423319</td>\n",
       "      <td>272.670996</td>\n",
       "      <td>282.525999</td>\n",
       "      <td>2.457450</td>\n",
       "      <td>37.234545</td>\n",
       "      <td>-54.768748</td>\n",
       "      <td>1</td>\n",
       "      <td>1.0</td>\n",
       "      <td>0.010624</td>\n",
       "      <td>0.010624</td>\n",
       "      <td>0.025334</td>\n",
       "      <td>0.025334</td>\n",
       "    </tr>\n",
       "    <tr>\n",
       "      <th>2018-10-31</th>\n",
       "      <td>270.649994</td>\n",
       "      <td>273.230011</td>\n",
       "      <td>270.119995</td>\n",
       "      <td>270.630005</td>\n",
       "      <td>0.019989</td>\n",
       "      <td>3.110016</td>\n",
       "      <td>265.653320</td>\n",
       "      <td>271.407996</td>\n",
       "      <td>281.754665</td>\n",
       "      <td>2.935943</td>\n",
       "      <td>43.689645</td>\n",
       "      <td>-28.228984</td>\n",
       "      <td>1</td>\n",
       "      <td>0.0</td>\n",
       "      <td>0.010586</td>\n",
       "      <td>-0.010586</td>\n",
       "      <td>0.035920</td>\n",
       "      <td>0.014748</td>\n",
       "    </tr>\n",
       "    <tr>\n",
       "      <th>2018-11-01</th>\n",
       "      <td>271.600006</td>\n",
       "      <td>273.730011</td>\n",
       "      <td>270.380005</td>\n",
       "      <td>273.510010</td>\n",
       "      <td>-1.910004</td>\n",
       "      <td>3.350006</td>\n",
       "      <td>267.419993</td>\n",
       "      <td>270.425995</td>\n",
       "      <td>281.068332</td>\n",
       "      <td>3.916527</td>\n",
       "      <td>49.565697</td>\n",
       "      <td>-1.797268</td>\n",
       "      <td>0</td>\n",
       "      <td>1.0</td>\n",
       "      <td>-0.005941</td>\n",
       "      <td>-0.005941</td>\n",
       "      <td>0.029979</td>\n",
       "      <td>0.008808</td>\n",
       "    </tr>\n",
       "    <tr>\n",
       "      <th>2018-11-02</th>\n",
       "      <td>274.750000</td>\n",
       "      <td>275.230011</td>\n",
       "      <td>269.589996</td>\n",
       "      <td>271.890015</td>\n",
       "      <td>2.859985</td>\n",
       "      <td>5.640015</td>\n",
       "      <td>270.636668</td>\n",
       "      <td>270.136996</td>\n",
       "      <td>280.399333</td>\n",
       "      <td>3.803513</td>\n",
       "      <td>46.495400</td>\n",
       "      <td>-21.716484</td>\n",
       "      <td>1</td>\n",
       "      <td>0.0</td>\n",
       "      <td>0.005502</td>\n",
       "      <td>-0.005502</td>\n",
       "      <td>0.035481</td>\n",
       "      <td>0.003306</td>\n",
       "    </tr>\n",
       "  </tbody>\n",
       "</table>\n",
       "</div>"
      ],
      "text/plain": [
       "                  Open        High         Low       Close       O-C  \\\n",
       "Date                                                                   \n",
       "2018-10-29  268.799988  270.250000  259.850006  263.859985  4.940002   \n",
       "2018-10-30  263.670013  268.119995  263.119995  267.769989 -4.099976   \n",
       "2018-10-31  270.649994  273.230011  270.119995  270.630005  0.019989   \n",
       "2018-11-01  271.600006  273.730011  270.380005  273.510010 -1.910004   \n",
       "2018-11-02  274.750000  275.230011  269.589996  271.890015  2.859985   \n",
       "\n",
       "                  H-L     3day MA    10day MA    30day MA   Std_dev  \\\n",
       "Date                                                                  \n",
       "2018-10-29  10.399994  266.909993  273.724997  283.375333  4.080481   \n",
       "2018-10-30   5.000000  266.423319  272.670996  282.525999  2.457450   \n",
       "2018-10-31   3.110016  265.653320  271.407996  281.754665  2.935943   \n",
       "2018-11-01   3.350006  267.419993  270.425995  281.068332  3.916527   \n",
       "2018-11-02   5.640015  270.636668  270.136996  280.399333  3.803513   \n",
       "\n",
       "                  RSI  Williams %R  Price_Rise  y_pred  Tomorrows Returns  \\\n",
       "Date                                                                        \n",
       "2018-10-29  27.075731   -79.383121           1     1.0           0.014710   \n",
       "2018-10-30  37.234545   -54.768748           1     1.0           0.010624   \n",
       "2018-10-31  43.689645   -28.228984           1     0.0           0.010586   \n",
       "2018-11-01  49.565697    -1.797268           0     1.0          -0.005941   \n",
       "2018-11-02  46.495400   -21.716484           1     0.0           0.005502   \n",
       "\n",
       "            Strategy Returns  Cumulative Market Returns  \\\n",
       "Date                                                      \n",
       "2018-10-29          0.014710                   0.014710   \n",
       "2018-10-30          0.010624                   0.025334   \n",
       "2018-10-31         -0.010586                   0.035920   \n",
       "2018-11-01         -0.005941                   0.029979   \n",
       "2018-11-02         -0.005502                   0.035481   \n",
       "\n",
       "            Cumulative Strategy Returns  \n",
       "Date                                     \n",
       "2018-10-29                     0.014710  \n",
       "2018-10-30                     0.025334  \n",
       "2018-10-31                     0.014748  \n",
       "2018-11-01                     0.008808  \n",
       "2018-11-02                     0.003306  "
      ]
     },
     "execution_count": 52,
     "metadata": {},
     "output_type": "execute_result"
    }
   ],
   "source": [
    "trade_df.loc[:, 'Cumulative Market Returns'] = np.cumsum(trade_df['Tomorrows Returns'])\n",
    "trade_df.loc[:, 'Cumulative Strategy Returns'] = np.cumsum(trade_df['Strategy Returns'])\n",
    "trade_df.head()"
   ]
  },
  {
   "cell_type": "code",
   "execution_count": 53,
   "metadata": {},
   "outputs": [
    {
     "data": {
      "image/png": "[encoded data removed]",
      "text/plain": [
       "<Figure size 720x360 with 1 Axes>"
      ]
     },
     "metadata": {
      "needs_background": "light"
     },
     "output_type": "display_data"
    }
   ],
   "source": [
    "plt.figure(figsize=(10,5))\n",
    "plt.plot(trade_df['Cumulative Market Returns'], color='r', label='Market Returns')\n",
    "plt.plot(trade_df['Cumulative Strategy Returns'], color='g', label='Strategy Returns')\n",
    "plt.legend()\n",
    "plt.show()"
   ]
  },
  {
   "cell_type": "markdown",
   "metadata": {
    "colab_type": "text",
    "id": "olfypJ520h0k"
   },
   "source": [
    "## Showcase 2 - Support Vector Machines for regime/trend prediction"
   ]
  },
  {
   "cell_type": "markdown",
   "metadata": {},
   "source": [
    "Let me begin by explaining the agenda here:\n",
    "\n",
    "1. Create an unsupervised ML ( machine learning) algorithm to predict the regimes.\n",
    "2. Plot these regimes to visualize them.\n",
    "3. Train a Support Vector Classifier algorithm with the regime as one of the features.\n",
    "4. Use this Support Vector Classifier algorithm to predict the current day’s trend at the Opening of the market.\n",
    "5. Visualize the performance of this strategy on the test data."
   ]
  },
  {
   "cell_type": "code",
   "execution_count": 1,
   "metadata": {},
   "outputs": [],
   "source": [
    "import numpy as np\n",
    "import pandas as pd\n",
    "from pandas_datareader import data as pdr\n",
    "import seaborn as sns \n",
    "import matplotlib.pyplot as plt\n",
    "import talib as ta\n",
    "from sklearn import mixture as mix\n",
    "from sklearn.preprocessing import StandardScaler\n",
    "from sklearn.svm import SVC\n",
    "import yfinance as yf"
   ]
  },
  {
   "cell_type": "code",
   "execution_count": 2,
   "metadata": {},
   "outputs": [
    {
     "data": {
      "text/html": [
       "<div>\n",
       "<style scoped>\n",
       "    .dataframe tbody tr th:only-of-type {\n",
       "        vertical-align: middle;\n",
       "    }\n",
       "\n",
       "    .dataframe tbody tr th {\n",
       "        vertical-align: top;\n",
       "    }\n",
       "\n",
       "    .dataframe thead th {\n",
       "        text-align: right;\n",
       "    }\n",
       "</style>\n",
       "<table border=\"1\" class=\"dataframe\">\n",
       "  <thead>\n",
       "    <tr style=\"text-align: right;\">\n",
       "      <th></th>\n",
       "      <th>Open</th>\n",
       "      <th>High</th>\n",
       "      <th>Low</th>\n",
       "      <th>Close</th>\n",
       "    </tr>\n",
       "    <tr>\n",
       "      <th>Date</th>\n",
       "      <th></th>\n",
       "      <th></th>\n",
       "      <th></th>\n",
       "      <th></th>\n",
       "    </tr>\n",
       "  </thead>\n",
       "  <tbody>\n",
       "    <tr>\n",
       "      <th>2000-01-03</th>\n",
       "      <td>148.25000</td>\n",
       "      <td>148.25000</td>\n",
       "      <td>143.875000</td>\n",
       "      <td>145.4375</td>\n",
       "    </tr>\n",
       "    <tr>\n",
       "      <th>2000-01-04</th>\n",
       "      <td>143.53125</td>\n",
       "      <td>144.06250</td>\n",
       "      <td>139.640625</td>\n",
       "      <td>139.7500</td>\n",
       "    </tr>\n",
       "    <tr>\n",
       "      <th>2000-01-05</th>\n",
       "      <td>139.93750</td>\n",
       "      <td>141.53125</td>\n",
       "      <td>137.250000</td>\n",
       "      <td>140.0000</td>\n",
       "    </tr>\n",
       "    <tr>\n",
       "      <th>2000-01-06</th>\n",
       "      <td>139.62500</td>\n",
       "      <td>141.50000</td>\n",
       "      <td>137.750000</td>\n",
       "      <td>137.7500</td>\n",
       "    </tr>\n",
       "    <tr>\n",
       "      <th>2000-01-07</th>\n",
       "      <td>140.31250</td>\n",
       "      <td>145.75000</td>\n",
       "      <td>140.062500</td>\n",
       "      <td>145.7500</td>\n",
       "    </tr>\n",
       "  </tbody>\n",
       "</table>\n",
       "</div>"
      ],
      "text/plain": [
       "                 Open       High         Low     Close\n",
       "Date                                                  \n",
       "2000-01-03  148.25000  148.25000  143.875000  145.4375\n",
       "2000-01-04  143.53125  144.06250  139.640625  139.7500\n",
       "2000-01-05  139.93750  141.53125  137.250000  140.0000\n",
       "2000-01-06  139.62500  141.50000  137.750000  137.7500\n",
       "2000-01-07  140.31250  145.75000  140.062500  145.7500"
      ]
     },
     "execution_count": 2,
     "metadata": {},
     "output_type": "execute_result"
    }
   ],
   "source": [
    "# Read the data from Yahoo\n",
    "df= pdr.get_data_yahoo('SPY', '2000-01-01', '2012-01-01')\n",
    "\n",
    "df = df.dropna()\n",
    "df = df[['Open', 'High', 'Low','Close']]\n",
    "df.head()"
   ]
  },
  {
   "cell_type": "code",
   "execution_count": 3,
   "metadata": {},
   "outputs": [],
   "source": [
    "n = 10  # look back period of 10 days\n",
    "t = 0.8 # 80% data for training and remaining 20% data for testing\n",
    "split =int(t*len(df))"
   ]
  },
  {
   "cell_type": "markdown",
   "metadata": {},
   "source": [
    "Let's shift the High, Low and Close columns by 1, to access only the past data. After this, let's created various technical indicators such as, RSI, SMA, ADX, Correlation, Parabolic SAR, and the Return of the past 1- day on an Open to Open basis."
   ]
  },
  {
   "cell_type": "code",
   "execution_count": 4,
   "metadata": {},
   "outputs": [
    {
     "name": "stdout",
     "output_type": "stream",
     "text": [
      "                 Open       High         Low     Close       high         low  \\\n",
      "Date                                                                            \n",
      "2000-01-03  148.25000  148.25000  143.875000  145.4375        NaN         NaN   \n",
      "2000-01-04  143.53125  144.06250  139.640625  139.7500  148.25000  143.875000   \n",
      "2000-01-05  139.93750  141.53125  137.250000  140.0000  144.06250  139.640625   \n",
      "2000-01-06  139.62500  141.50000  137.750000  137.7500  141.53125  137.250000   \n",
      "2000-01-07  140.31250  145.75000  140.062500  145.7500  141.50000  137.750000   \n",
      "\n",
      "               close  RSI  SMA  Corr         SAR  ADX    Return  \n",
      "Date                                                             \n",
      "2000-01-03       NaN  NaN  NaN   NaN         NaN  NaN       NaN  \n",
      "2000-01-04  145.4375  NaN  NaN   NaN         NaN  NaN -0.032347  \n",
      "2000-01-05  139.7500  NaN  NaN   NaN  148.250000  NaN -0.025357  \n",
      "2000-01-06  140.0000  NaN  NaN   NaN  146.528125  NaN -0.002236  \n",
      "2000-01-07  137.7500  NaN  NaN   NaN  144.672500  NaN  0.004912  \n"
     ]
    }
   ],
   "source": [
    "df['high']=df['High'].shift(1)\n",
    "df['low']=df['Low'].shift(1)\n",
    "df['close']=df['Close'].shift(1)\n",
    "df['RSI']=ta.RSI(np.array(df['close']), timeperiod=n)\n",
    "df['SMA']= df['close'].rolling(window=n).mean()\n",
    "df['Corr']= df['SMA'].rolling(window=n).corr(df['close'])\n",
    "df['SAR']=ta.SAR(np.array(df['high']),np.array(df['low']),\\\n",
    "                  0.2,0.2)\n",
    "df['ADX']=ta.ADX(np.array(df['high']),np.array(df['low']),\\\n",
    "                  np.array(df['close']), timeperiod =n)\n",
    "df['Corr'][df.Corr>1]=1\n",
    "df['Corr'][df.Corr<-1]=-1 \n",
    "df['Return']= np.log(df['Open']/df['Open'].shift(1))\n",
    "\n",
    "print(df.head())\n",
    "\n",
    "df=df.dropna()"
   ]
  },
  {
   "cell_type": "code",
   "execution_count": 5,
   "metadata": {},
   "outputs": [
    {
     "data": {
      "image/png": "[encoded data removed]",
      "text/plain": [
       "<Figure size 621.5x288 with 1 Axes>"
      ]
     },
     "metadata": {
      "needs_background": "light"
     },
     "output_type": "display_data"
    },
    {
     "name": "stdout",
     "output_type": "stream",
     "text": [
      "Mean for regime 0:  -0.01354361468026196\n",
      "Co-Variance for regime 0:  0.34228226342462287\n",
      "Mean for regime 1:  -1.3584140837627232\n",
      "Co-Variance for regime 1:  0.37004225826594567\n",
      "Mean for regime 2:  1.1515138267969611\n",
      "Co-Variance for regime 2:  0.39132398659487155\n",
      "Mean for regime 3:  -0.801900436799713\n",
      "Co-Variance for regime 3:  1.1814840292494673\n",
      "        Date  Regime        Open        high         low       close  \\\n",
      "0 2009-09-09       1  103.120003  103.050003  102.389999  102.940002   \n",
      "1 2009-09-10       1  103.800003  104.080002  102.800003  103.730003   \n",
      "2 2009-09-11       1  104.989998  104.860001  103.220001  104.790001   \n",
      "3 2009-09-14       1  103.879997  105.300003  104.279999  104.769997   \n",
      "4 2009-09-15       1  105.449997  105.459999  103.150002  105.279999   \n",
      "\n",
      "         RSI      SMA      Corr         SAR        ADX    Return  \\\n",
      "0  61.016205  102.124 -0.712279   99.570000  27.067911  0.001164   \n",
      "1  64.627979  102.181 -0.591800  100.266000  27.615840  0.006573   \n",
      "2  68.920785  102.343 -0.312803  101.028801  28.737307  0.011399   \n",
      "3  68.745839  102.480  0.069446  101.795041  30.084067 -0.010629   \n",
      "4  70.842418  102.670  0.572570  102.496033  29.362099  0.015001   \n",
      "\n",
      "   market_cu_return  \n",
      "0          0.001164  \n",
      "1          0.007737  \n",
      "2          0.019136  \n",
      "3          0.008507  \n",
      "4          0.023508  \n"
     ]
    }
   ],
   "source": [
    "# created an unsupervised learning algorithm to make the regime prediction\n",
    "\n",
    "ss= StandardScaler()\n",
    "unsup = mix.GaussianMixture(n_components=4, \n",
    "                            covariance_type=\"spherical\", \n",
    "                            n_init=100, \n",
    "                            random_state=42)\n",
    "df=df.drop(['High','Low','Close'],axis=1)\n",
    "unsup.fit(np.reshape(ss.fit_transform(df[:split]),(-1,df.shape[1])))\n",
    "regime = unsup.predict(np.reshape(ss.transform(df[split:]),\\\n",
    "                                                   (-1,df.shape[1])))\n",
    "\n",
    "Regimes=pd.DataFrame(regime,columns=['Regime'],index=df[split:].index)\\\n",
    "                     .join(df[split:], how='inner')\\\n",
    "                          .assign(market_cu_return=df[split:]\\\n",
    "                                  .Return.cumsum())\\\n",
    "                                  .reset_index(drop=False)\\\n",
    "                                  .rename(columns={'index':'Date'})\n",
    "\n",
    "order=[0,1,2,3]\n",
    "fig = sns.FacetGrid(data=Regimes,hue='Regime',hue_order=order,aspect=2,height= 4)\n",
    "fig.map(plt.scatter,'Date','market_cu_return', s=4).add_legend()\n",
    "plt.show()\n",
    "\n",
    "for i in order:\n",
    "    print('Mean for regime %i: '%i,unsup.means_[i][0])\n",
    "    print('Co-Variance for regime %i: '%i,(unsup.covariances_[i]))\n",
    "\n",
    "print(Regimes.head())\n",
    "\n",
    "\n",
    "\n"
   ]
  },
  {
   "cell_type": "markdown",
   "metadata": {},
   "source": [
    "In the above code, we created an unsupervised-algo that will divide the market into 4 regimes, based on the criterion of its own choosing. We have not provided any train dataset with labels. Next, we will fit the data and predict the regimes. Then we will be storing these regime predictions in a new variable called regime.\n",
    "\n",
    "This graph looks pretty good. Without actually looking at the factors based on which the classification was done, we can conclude a few things just by looking at the chart.\n",
    "\n",
    "- The # zone is the low volatility or the sideways zone\n",
    "- The # zone is high volatility zone or panic zone.\n",
    "- The # zone is a breakout zone.\n",
    "- The # zone: Not entirely sure but let us find out.\n",
    "\n",
    "The data can be inferred as follows:\n",
    "\n",
    "- Regime 0: Low mean and High covariance.\n",
    "- Regime 1: High mean and High covariance.\n",
    "- Regime 2: High mean and Low covariance.\n",
    "- Regime 3: Low mean and Low covariance."
   ]
  },
  {
   "cell_type": "markdown",
   "metadata": {},
   "source": [
    "We scale the Regimes data frame, excluding the Date and Regimes columns, created in the earlier piece of code and saved it back in the same columns. By doing so, we will not be losing any features but the data will be scaled and ready for training the support vector classifier algorithm. Next, we create a signal column which would act as the prediction values. The algorithm would train on the features’ set to predict this signal."
   ]
  },
  {
   "cell_type": "code",
   "execution_count": 6,
   "metadata": {},
   "outputs": [],
   "source": [
    "ss1 =StandardScaler()\n",
    "columns =Regimes.columns.drop(['Regime','Date'])    \n",
    "Regimes[columns]= ss1.fit_transform(Regimes[columns])\n",
    "Regimes['Signal']=0\n",
    "Regimes.loc[Regimes['Return']>0,'Signal']=1\n",
    "Regimes.loc[Regimes['Return']<0,'Signal']=-1\n",
    "Regimes['return'] = Regimes['Return'].shift(1)\n",
    "Regimes=Regimes.dropna()"
   ]
  },
  {
   "cell_type": "code",
   "execution_count": 9,
   "metadata": {},
   "outputs": [
    {
     "name": "stdout",
     "output_type": "stream",
     "text": [
      "Date\n",
      "2011-07-18    1\n",
      "2011-07-19    1\n",
      "2011-07-20    1\n",
      "2011-07-21    1\n",
      "2011-07-22    1\n",
      "             ..\n",
      "2011-12-23    1\n",
      "2011-12-27    1\n",
      "2011-12-28    1\n",
      "2011-12-29    1\n",
      "2011-12-30    1\n",
      "Name: Pred_Signal, Length: 117, dtype: int64\n"
     ]
    },
    {
     "data": {
      "image/png": "[encoded data removed]",
      "text/plain": [
       "<Figure size 432x288 with 1 Axes>"
      ]
     },
     "metadata": {
      "needs_background": "light"
     },
     "output_type": "display_data"
    }
   ],
   "source": [
    "# SVM Classifier       \n",
    "cls= SVC(C=1.0, cache_size=200, class_weight=None, coef0=0.0,\n",
    "    decision_function_shape='ovr', degree=3, gamma='auto', kernel='rbf',\n",
    "    max_iter=-1, probability=False, random_state=None, shrinking=True,\n",
    "    tol=0.001, verbose=False)\n",
    "\n",
    "split2= int(.8*len(Regimes))\n",
    "\n",
    "X = Regimes.drop(['Signal','Return','market_cu_return','Date'], axis=1)\n",
    "y= Regimes['Signal']\n",
    "\n",
    "cls.fit(X[:split2],y[:split2])\n",
    "\n",
    "p_data=len(X)-split2\n",
    "\n",
    "df['Pred_Signal']=0\n",
    "df.iloc[-p_data:,df.columns.get_loc('Pred_Signal')]=cls.predict(X[split2:])\n",
    "\n",
    "print(df['Pred_Signal'][-p_data:])\n",
    "\n",
    "df['str_ret'] =df['Pred_Signal']*df['Return'].shift(-1)\n",
    "\n",
    "df['strategy_cu_return']=0.\n",
    "df['market_cu_return']=0.\n",
    "df.iloc[-p_data:,df.columns.get_loc('strategy_cu_return')] \\\n",
    "       = np.nancumsum(df['str_ret'][-p_data:])\n",
    "df.iloc[-p_data:,df.columns.get_loc('market_cu_return')] \\\n",
    "       = np.nancumsum(df['Return'][-p_data:])\n",
    "Sharpe = (df['strategy_cu_return'][-1]-df['market_cu_return'][-1])\\\n",
    "           /np.nanstd(df['strategy_cu_return'][-p_data:])\n",
    "\n",
    "plt.plot(df['strategy_cu_return'][-p_data:],color='g',label='Strategy Returns')\n",
    "plt.plot(df['market_cu_return'][-p_data:],color='r',label='Market Returns')\n",
    "plt.figtext(0.14,0.9,s='Sharpe ratio: %.2f'%Sharpe)\n",
    "plt.legend(loc='best')\n",
    "plt.show()"
   ]
  },
  {
   "cell_type": "markdown",
   "metadata": {},
   "source": [
    "## Showcase 3 - Create trading strategy using KNN"
   ]
  },
  {
   "cell_type": "code",
   "execution_count": 2,
   "metadata": {},
   "outputs": [],
   "source": [
    "import numpy as np\n",
    "import pandas as pd\n",
    "import matplotlib.pyplot as plt\n",
    "from sklearn.neighbors import KNeighborsClassifier\n",
    "from sklearn.metrics import accuracy_score\n",
    "from pandas_datareader import data as pdr\n",
    "import yfinance as yf\n",
    "from pandas.plotting import register_matplotlib_converters\n",
    "register_matplotlib_converters()"
   ]
  },
  {
   "cell_type": "code",
   "execution_count": 13,
   "metadata": {},
   "outputs": [
    {
     "data": {
      "text/html": [
       "<div>\n",
       "<style scoped>\n",
       "    .dataframe tbody tr th:only-of-type {\n",
       "        vertical-align: middle;\n",
       "    }\n",
       "\n",
       "    .dataframe tbody tr th {\n",
       "        vertical-align: top;\n",
       "    }\n",
       "\n",
       "    .dataframe thead th {\n",
       "        text-align: right;\n",
       "    }\n",
       "</style>\n",
       "<table border=\"1\" class=\"dataframe\">\n",
       "  <thead>\n",
       "    <tr style=\"text-align: right;\">\n",
       "      <th></th>\n",
       "      <th>Open</th>\n",
       "      <th>High</th>\n",
       "      <th>Low</th>\n",
       "      <th>Close</th>\n",
       "    </tr>\n",
       "    <tr>\n",
       "      <th>Date</th>\n",
       "      <th></th>\n",
       "      <th></th>\n",
       "      <th></th>\n",
       "      <th></th>\n",
       "    </tr>\n",
       "  </thead>\n",
       "  <tbody>\n",
       "    <tr>\n",
       "      <th>2012-01-03</th>\n",
       "      <td>127.760002</td>\n",
       "      <td>128.380005</td>\n",
       "      <td>127.430000</td>\n",
       "      <td>127.500000</td>\n",
       "    </tr>\n",
       "    <tr>\n",
       "      <th>2012-01-04</th>\n",
       "      <td>127.199997</td>\n",
       "      <td>127.809998</td>\n",
       "      <td>126.709999</td>\n",
       "      <td>127.699997</td>\n",
       "    </tr>\n",
       "    <tr>\n",
       "      <th>2012-01-05</th>\n",
       "      <td>127.010002</td>\n",
       "      <td>128.229996</td>\n",
       "      <td>126.430000</td>\n",
       "      <td>128.039993</td>\n",
       "    </tr>\n",
       "    <tr>\n",
       "      <th>2012-01-06</th>\n",
       "      <td>128.199997</td>\n",
       "      <td>128.220001</td>\n",
       "      <td>127.290001</td>\n",
       "      <td>127.709999</td>\n",
       "    </tr>\n",
       "    <tr>\n",
       "      <th>2012-01-09</th>\n",
       "      <td>128.000000</td>\n",
       "      <td>128.179993</td>\n",
       "      <td>127.410004</td>\n",
       "      <td>128.020004</td>\n",
       "    </tr>\n",
       "  </tbody>\n",
       "</table>\n",
       "</div>"
      ],
      "text/plain": [
       "                  Open        High         Low       Close\n",
       "Date                                                      \n",
       "2012-01-03  127.760002  128.380005  127.430000  127.500000\n",
       "2012-01-04  127.199997  127.809998  126.709999  127.699997\n",
       "2012-01-05  127.010002  128.229996  126.430000  128.039993\n",
       "2012-01-06  128.199997  128.220001  127.290001  127.709999\n",
       "2012-01-09  128.000000  128.179993  127.410004  128.020004"
      ]
     },
     "execution_count": 13,
     "metadata": {},
     "output_type": "execute_result"
    }
   ],
   "source": [
    "# Read the data from Yahoo\n",
    "df= pdr.get_data_yahoo('SPY', '2012-01-01', '2021-01-01')\n",
    "\n",
    "df = df.dropna()\n",
    "df = df[['Open', 'High', 'Low','Close']]\n",
    "df.head()"
   ]
  },
  {
   "cell_type": "code",
   "execution_count": 14,
   "metadata": {},
   "outputs": [
    {
     "data": {
      "text/html": [
       "<div>\n",
       "<style scoped>\n",
       "    .dataframe tbody tr th:only-of-type {\n",
       "        vertical-align: middle;\n",
       "    }\n",
       "\n",
       "    .dataframe tbody tr th {\n",
       "        vertical-align: top;\n",
       "    }\n",
       "\n",
       "    .dataframe thead th {\n",
       "        text-align: right;\n",
       "    }\n",
       "</style>\n",
       "<table border=\"1\" class=\"dataframe\">\n",
       "  <thead>\n",
       "    <tr style=\"text-align: right;\">\n",
       "      <th></th>\n",
       "      <th>Open-Close</th>\n",
       "      <th>High-Low</th>\n",
       "    </tr>\n",
       "    <tr>\n",
       "      <th>Date</th>\n",
       "      <th></th>\n",
       "      <th></th>\n",
       "    </tr>\n",
       "  </thead>\n",
       "  <tbody>\n",
       "    <tr>\n",
       "      <th>2012-01-03</th>\n",
       "      <td>0.260002</td>\n",
       "      <td>0.950005</td>\n",
       "    </tr>\n",
       "    <tr>\n",
       "      <th>2012-01-04</th>\n",
       "      <td>-0.500000</td>\n",
       "      <td>1.099998</td>\n",
       "    </tr>\n",
       "    <tr>\n",
       "      <th>2012-01-05</th>\n",
       "      <td>-1.029991</td>\n",
       "      <td>1.799995</td>\n",
       "    </tr>\n",
       "    <tr>\n",
       "      <th>2012-01-06</th>\n",
       "      <td>0.489998</td>\n",
       "      <td>0.930000</td>\n",
       "    </tr>\n",
       "    <tr>\n",
       "      <th>2012-01-09</th>\n",
       "      <td>-0.020004</td>\n",
       "      <td>0.769989</td>\n",
       "    </tr>\n",
       "  </tbody>\n",
       "</table>\n",
       "</div>"
      ],
      "text/plain": [
       "            Open-Close  High-Low\n",
       "Date                            \n",
       "2012-01-03    0.260002  0.950005\n",
       "2012-01-04   -0.500000  1.099998\n",
       "2012-01-05   -1.029991  1.799995\n",
       "2012-01-06    0.489998  0.930000\n",
       "2012-01-09   -0.020004  0.769989"
      ]
     },
     "execution_count": 14,
     "metadata": {},
     "output_type": "execute_result"
    }
   ],
   "source": [
    "# Predictor variables\n",
    "df['Open-Close']= df.Open -df.Close\n",
    "df['High-Low']  = df.High - df.Low\n",
    "df =df.dropna()\n",
    "X= df[['Open-Close', 'High-Low']]\n",
    "X.head()"
   ]
  },
  {
   "cell_type": "code",
   "execution_count": 15,
   "metadata": {},
   "outputs": [],
   "source": [
    "# Target variable\n",
    "Y= np.where(df['Close'].shift(-1)>df['Close'],1,-1)"
   ]
  },
  {
   "cell_type": "code",
   "execution_count": 16,
   "metadata": {},
   "outputs": [],
   "source": [
    "# Splitting the dataset\n",
    "split_percentage = 0.7\n",
    "split = int(split_percentage*len(df))\n",
    "\n",
    "X_train = X[:split]\n",
    "Y_train = Y[:split]\n",
    "\n",
    "X_test = X[split:]\n",
    "Y_test = Y[split:]"
   ]
  },
  {
   "cell_type": "code",
   "execution_count": 17,
   "metadata": {},
   "outputs": [
    {
     "name": "stdout",
     "output_type": "stream",
     "text": [
      "Train_data Accuracy: 0.61\n",
      "Test_data Accuracy: 0.56\n"
     ]
    }
   ],
   "source": [
    "# Instantiate KNN learning model(k=15)\n",
    "knn = KNeighborsClassifier(n_neighbors=15)\n",
    "\n",
    "# fit the model\n",
    "knn.fit(X_train, Y_train)\n",
    "\n",
    "# Accuracy Score\n",
    "accuracy_train = accuracy_score(Y_train, knn.predict(X_train))\n",
    "accuracy_test = accuracy_score(Y_test, knn.predict(X_test))\n",
    "\n",
    "print ('Train_data Accuracy: %.2f' %accuracy_train)\n",
    "print ('Test_data Accuracy: %.2f' %accuracy_test)"
   ]
  },
  {
   "cell_type": "code",
   "execution_count": 18,
   "metadata": {},
   "outputs": [],
   "source": [
    "# Predicted Signal\n",
    "df['Predicted_Signal'] = knn.predict(X)"
   ]
  },
  {
   "cell_type": "code",
   "execution_count": 19,
   "metadata": {},
   "outputs": [],
   "source": [
    "# SPY Cumulative Returns\n",
    "df['SPY_returns'] = np.log(df['Close']/df['Close'].shift(1))\n",
    "Cumulative_SPY_returns = df[split:]['SPY_returns'].cumsum()*100"
   ]
  },
  {
   "cell_type": "code",
   "execution_count": 20,
   "metadata": {},
   "outputs": [],
   "source": [
    "# Cumulative Strategy Returns \n",
    "df['Startegy_returns'] = df['SPY_returns']* df['Predicted_Signal'].shift(1)\n",
    "Cumulative_Strategy_returns = df[split:]['Startegy_returns'].cumsum()*100"
   ]
  },
  {
   "cell_type": "code",
   "execution_count": 21,
   "metadata": {},
   "outputs": [
    {
     "data": {
      "image/png": "[encoded data removed]",
      "text/plain": [
       "<Figure size 720x360 with 1 Axes>"
      ]
     },
     "metadata": {
      "needs_background": "light"
     },
     "output_type": "display_data"
    }
   ],
   "source": [
    "# Plot the results to visualize the performance\n",
    "\n",
    "plt.figure(figsize=(10,5))\n",
    "plt.plot(Cumulative_SPY_returns, color='r',label = 'SPY Returns')\n",
    "plt.plot(Cumulative_Strategy_returns, color='g', label = 'Strategy Returns')\n",
    "plt.legend()\n",
    "plt.show()"
   ]
  },
  {
   "cell_type": "code",
   "execution_count": 23,
   "metadata": {},
   "outputs": [
    {
     "name": "stdout",
     "output_type": "stream",
     "text": [
      "Sharpe ratio: 0.66\n"
     ]
    }
   ],
   "source": [
    "# Calculate Sharpe reatio\n",
    "Std = Cumulative_Strategy_returns.std()\n",
    "Sharpe = (Cumulative_Strategy_returns-Cumulative_SPY_returns)/Std\n",
    "Sharpe = Sharpe.mean()\n",
    "print('Sharpe ratio: %.2f'%Sharpe )"
   ]
  }
 ],
 "metadata": {
  "colab": {
   "collapsed_sections": [],
   "name": "1_ML_Intro.ipynb",
   "provenance": [
    {
     "file_id": "1MlepN6Hfgtvpddw6b8WIC_UWGvFkWlYT",
     "timestamp": 1547849262566
    }
   ],
   "version": "0.3.2"
  },
  "kernelspec": {
   "display_name": "Python 3 (ipykernel)",
   "language": "python",
   "name": "python3"
  },
  "language_info": {
   "codemirror_mode": {
    "name": "ipython",
    "version": 3
   },
   "file_extension": ".py",
   "mimetype": "text/x-python",
   "name": "python",
   "nbconvert_exporter": "python",
   "pygments_lexer": "ipython3",
   "version": "3.10.0"
  }
 },
 "nbformat": 4,
 "nbformat_minor": 1
}
