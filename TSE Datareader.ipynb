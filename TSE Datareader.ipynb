{
 "cells": [
  {
   "cell_type": "markdown",
   "metadata": {},
   "source": [
    "## <center><font color=navy>Algorithmic Trading with Python</font></center>\n",
    "### <center>TSE Datareader</center>\n",
    "#### <center>Ali Habibnia</center>"
   ]
  },
  {
   "cell_type": "markdown",
   "metadata": {},
   "source": [
    "# pytse client\n",
    "\n",
    "https://pypi.org/project/pytse-client/"
   ]
  },
  {
   "cell_type": "code",
   "execution_count": null,
   "metadata": {},
   "outputs": [],
   "source": [
    "! pip install pytse-client"
   ]
  },
  {
   "cell_type": "code",
   "execution_count": null,
   "metadata": {},
   "outputs": [],
   "source": [
    "import pytse_client as tse"
   ]
  },
  {
   "cell_type": "code",
   "execution_count": null,
   "metadata": {},
   "outputs": [],
   "source": [
    "# tickers = tse.download(symbols=\"all\", write_to_csv=True)\n",
    "\n",
    "Data = tse.download(symbols=\"وبملت\")\n",
    "#tse.download(symbols=\"وبملت\", write_to_csv=True, include_jdate=True)\n",
    "#tse.download(symbols=[\"وبملت\", \"ولملت\"], write_to_csv=True)\n",
    "Data"
   ]
  },
  {
   "cell_type": "code",
   "execution_count": null,
   "metadata": {},
   "outputs": [],
   "source": [
    "ticker = tse.Ticker(\"وبملت\")\n",
    "print(ticker.history)  # سابقه قیمت سهم\n",
    "print(ticker.client_types)  # حقیقی حقوقی\n",
    "print(ticker.title)  # \n",
    "print(ticker.url)  # آدرس صفحه سهم\n",
    "print(ticker.group_name)  # نام گروه\n",
    "print(ticker.eps)  # eps\n",
    "print(ticker.p_e_ratio)  # P/E\n",
    "print(ticker.group_p_e_ratio)  # group P/E\n",
    "print(ticker.base_volume)  # حجم مبنا\n",
    "print(ticker.last_price)  # آخرین معامله\n",
    "print(ticker.adj_close)  # قیمت پایانی\n",
    "print(ticker.best_supply_price)  # قیمت بهترین تقاضا\n",
    "print(ticker.best_supply_vol)  # حجم بهترین تقاضا\n",
    "print(ticker.best_demand_price)  # قیمت بهترین عرضه\n",
    "print(ticker.best_demand_vol)  # حجم بهترین عرضه\n",
    "\n",
    "\n",
    "\n"
   ]
  },
  {
   "cell_type": "code",
   "execution_count": null,
   "metadata": {},
   "outputs": [],
   "source": [
    "# To Get Live Market Data\n",
    "\n",
    "ticker.last_price"
   ]
  },
  {
   "cell_type": "code",
   "execution_count": null,
   "metadata": {},
   "outputs": [],
   "source": [
    "# Example of repeatedly executing a function in python every x seconds\n",
    "\n",
    "import time\n",
    "\n",
    "x=3\n",
    "timeout = time.time() + 15*1   # 5 minutes from now\n",
    "\n",
    "while True:\n",
    "    test = 0\n",
    "    print(ticker.last_price)\n",
    "    time.sleep(3)\n",
    "    if test == 5 or time.time() > timeout:\n",
    "        break  "
   ]
  },
  {
   "cell_type": "markdown",
   "metadata": {},
   "source": [
    "# tehran-stocks\n",
    "\n",
    "https://pypi.org/project/tehran-stocks/"
   ]
  },
  {
   "cell_type": "code",
   "execution_count": null,
   "metadata": {},
   "outputs": [],
   "source": [
    "! pip install tehran_stocks"
   ]
  },
  {
   "cell_type": "code",
   "execution_count": null,
   "metadata": {},
   "outputs": [],
   "source": [
    "import tehran_stocks"
   ]
  },
  {
   "cell_type": "code",
   "execution_count": null,
   "metadata": {},
   "outputs": [],
   "source": [
    "from tehran_stocks import get_all_price, Stocks, update_group\n",
    "\n",
    "get_all_price() # download and(or) update all prices\n",
    "\n",
    "update_group(34) #download and(or) update Stocks in groupCode = 34 (Cars)\n",
    "\n",
    "Stocks.get_group() # to see list of group codes"
   ]
  },
  {
   "cell_type": "code",
   "execution_count": null,
   "metadata": {},
   "outputs": [],
   "source": [
    "from tehran_stocks import Stocks\n",
    "\n",
    "# You can use query to find stocks\n",
    "stock = Stocks.query.filter_by(name='كگل').first() #find by symbol(نماد)\n",
    "\n",
    "stock = Stocks.query.filter_by(code='35700344742885862').first() # find by code on tsetmc url\n",
    "\n",
    "stock = Stocks.query.filter(Stocks.title.like('%گل گهر%')).first() # Search by title\n",
    "\n",
    "stock_list = Stocks.query.filter_by(group_code =34).all() # find all Stocks in Khodro\n",
    "\n",
    "stock_list = Stocks.query.filter(Stocks.group_code.in_([13,34])).all() # all stocks in khodro and felezat"
   ]
  },
  {
   "cell_type": "code",
   "execution_count": null,
   "metadata": {},
   "outputs": [],
   "source": [
    "stock.df"
   ]
  },
  {
   "cell_type": "code",
   "execution_count": null,
   "metadata": {},
   "outputs": [],
   "source": [
    "stock.df.to_csv('price.csv')\n",
    "stock.df.to_excel('price.xlsx')\n",
    "stock.df.to_stata('price.dta')"
   ]
  },
  {
   "cell_type": "code",
   "execution_count": null,
   "metadata": {},
   "outputs": [],
   "source": [
    "stock.update()"
   ]
  },
  {
   "cell_type": "code",
   "execution_count": null,
   "metadata": {},
   "outputs": [],
   "source": [
    "stock.display()"
   ]
  },
  {
   "cell_type": "markdown",
   "metadata": {},
   "source": [
    "## Web Scraping"
   ]
  },
  {
   "cell_type": "markdown",
   "metadata": {},
   "source": [
    "### tsetmc"
   ]
  },
  {
   "cell_type": "code",
   "execution_count": null,
   "metadata": {},
   "outputs": [],
   "source": [
    "!pip install selenium"
   ]
  },
  {
   "cell_type": "code",
   "execution_count": null,
   "metadata": {},
   "outputs": [],
   "source": [
    "from selenium import webdriver\n",
    "from bs4 import BeautifulSoup\n",
    "\n",
    "driver = webdriver.Safari()\n",
    "url = 'http://www.tsetmc.com/Loader.aspx?ParTree=15131F'\n",
    "driver.get(url)\n",
    "soup = BeautifulSoup(driver.page_source, 'html.parser')\n",
    "first_names_Id = soup.findAll('a', {'class': 'inst'})\n",
    "print(first_names_Id)\n"
   ]
  },
  {
   "cell_type": "markdown",
   "metadata": {},
   "source": [
    "### fipiran"
   ]
  },
  {
   "cell_type": "code",
   "execution_count": null,
   "metadata": {},
   "outputs": [],
   "source": [
    "import pandas as pd\n",
    "fipiran = pd.read_html(\"http://fipiran.ir/Market/LupBourse\")\n",
    "fipiran = fipiran[0]\n",
    "fipiran = pd.DataFrame(fipiran)"
   ]
  },
  {
   "cell_type": "code",
   "execution_count": null,
   "metadata": {},
   "outputs": [],
   "source": [
    "fipiran"
   ]
  },
  {
   "cell_type": "code",
   "execution_count": null,
   "metadata": {},
   "outputs": [],
   "source": [
    "fipiran.set_index(\"نماد\")"
   ]
  },
  {
   "cell_type": "code",
   "execution_count": null,
   "metadata": {},
   "outputs": [],
   "source": [
    "fipiran.loc[0]"
   ]
  }
 ],
 "metadata": {
  "kernelspec": {
   "display_name": "Python 3 (ipykernel)",
   "language": "python",
   "name": "python3"
  },
  "language_info": {
   "codemirror_mode": {
    "name": "ipython",
    "version": 3
   },
   "file_extension": ".py",
   "mimetype": "text/x-python",
   "name": "python",
   "nbconvert_exporter": "python",
   "pygments_lexer": "ipython3",
   "version": "3.10.0"
  }
 },
 "nbformat": 4,
 "nbformat_minor": 2
}
